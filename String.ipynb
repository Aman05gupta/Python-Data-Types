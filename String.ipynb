{
  "nbformat": 4,
  "nbformat_minor": 0,
  "metadata": {
    "colab": {
      "provenance": [],
      "authorship_tag": "ABX9TyPYUD7Jo6ih/NCte3jrNNpA",
      "include_colab_link": true
    },
    "kernelspec": {
      "name": "python3",
      "display_name": "Python 3"
    },
    "language_info": {
      "name": "python"
    }
  },
  "cells": [
    {
      "cell_type": "markdown",
      "metadata": {
        "id": "view-in-github",
        "colab_type": "text"
      },
      "source": [
        "<a href=\"https://colab.research.google.com/github/Aman05gupta/Python-Data-Types/blob/main/String.ipynb\" target=\"_parent\"><img src=\"https://colab.research.google.com/assets/colab-badge.svg\" alt=\"Open In Colab\"/></a>"
      ]
    },
    {
      "cell_type": "code",
      "execution_count": null,
      "metadata": {
        "id": "9WkAriPjAhPF"
      },
      "outputs": [],
      "source": []
    },
    {
      "cell_type": "markdown",
      "source": [
        "## Python Data Types\n",
        "Every value has a datatype, and variables can hold values.The interpreter binds the value implicitly to its type.\n",
        "\n",
        "---\n",
        "\n",
        "We did not specify the type of the variable a, which has the value five from an integer. The Python interpreter will automatically interpret the variable as an integer.\n",
        "\n",
        "\n",
        "---\n",
        "\n",
        "\n",
        "\n",
        "We can verify the type of the program-used variable thanks to Python. The type() function in Python returns the type of the passed variable.\n"
      ],
      "metadata": {
        "id": "9ri9iDDvBdrc"
      }
    },
    {
      "cell_type": "code",
      "source": [
        "a=10\n",
        "b=\"Hi Python\"\n",
        "c = 10.5\n",
        "print(type(a))\n",
        "print(type(b))\n",
        "print(type(c))"
      ],
      "metadata": {
        "colab": {
          "base_uri": "https://localhost:8080/"
        },
        "id": "xJ8_q_K0BgLK",
        "outputId": "ac6a002b-dceb-42fd-8c96-32ec944ec49b"
      },
      "execution_count": 1,
      "outputs": [
        {
          "output_type": "stream",
          "name": "stdout",
          "text": [
            "<class 'int'>\n",
            "<class 'str'>\n",
            "<class 'float'>\n"
          ]
        }
      ]
    },
    {
      "cell_type": "markdown",
      "source": [
        "## Numbers"
      ],
      "metadata": {
        "id": "QZfE2daEDHKF"
      }
    },
    {
      "cell_type": "code",
      "source": [
        "a = 5\n",
        "print(\"The type of a\", type(a))\n",
        "\n",
        "b = 40.5\n",
        "print(\"The type of b\", type(b))\n",
        "\n",
        "c = 1+3j\n",
        "print(\"The type of c\", type(c))\n",
        "print(\" c is a complex number\", isinstance(1+3j,complex))"
      ],
      "metadata": {
        "colab": {
          "base_uri": "https://localhost:8080/"
        },
        "id": "sUsZrWiADIRk",
        "outputId": "dd95a5b0-c480-4fb6-8fba-ab456ffa7d5f"
      },
      "execution_count": 2,
      "outputs": [
        {
          "output_type": "stream",
          "name": "stdout",
          "text": [
            "The type of a <class 'int'>\n",
            "The type of b <class 'float'>\n",
            "The type of c <class 'complex'>\n",
            " c is a complex number True\n"
          ]
        }
      ]
    },
    {
      "cell_type": "markdown",
      "source": [
        "### String\n",
        "The sequence of characters in the quotation marks can be used to describe the string. A string can be defined in Python using single, double, or triple quotes.\n",
        "\n",
        "---\n",
        "\n",
        "**Creating Strings**"
      ],
      "metadata": {
        "id": "55xYXhqbEZ-h"
      }
    },
    {
      "cell_type": "code",
      "source": [
        "str1 = 'Hello, World!'\n",
        "str2 = \"Hello, World!\"\n",
        "print(str1)\n",
        "print(str2)"
      ],
      "metadata": {
        "colab": {
          "base_uri": "https://localhost:8080/"
        },
        "id": "gRSbbUIfG-p_",
        "outputId": "7e9294a2-c755-4eb7-b37c-30aeca03a2b6"
      },
      "execution_count": 8,
      "outputs": [
        {
          "output_type": "stream",
          "name": "stdout",
          "text": [
            "Hello, World!\n",
            "Hello, World!\n"
          ]
        }
      ]
    },
    {
      "cell_type": "markdown",
      "source": [
        "### Triple quotes are used for strings that span multiple lines:"
      ],
      "metadata": {
        "id": "QNQnua0NHUkf"
      }
    },
    {
      "cell_type": "code",
      "source": [
        "str3 = '''This is a multi-line string.'''\n",
        "print(str3)\n"
      ],
      "metadata": {
        "colab": {
          "base_uri": "https://localhost:8080/"
        },
        "id": "nmgjnuMyHPJD",
        "outputId": "46ebd618-385b-4433-8d77-e1828fa99702"
      },
      "execution_count": 10,
      "outputs": [
        {
          "output_type": "stream",
          "name": "stdout",
          "text": [
            "This is a multi-line string.\n"
          ]
        }
      ]
    },
    {
      "cell_type": "markdown",
      "source": [
        "### String Operations\n",
        "**Concatenation**\n",
        "\n",
        "concatenate (join) strings using the **+** operator."
      ],
      "metadata": {
        "id": "n2Yy3DGGHu5i"
      }
    },
    {
      "cell_type": "code",
      "source": [
        "str1 = 'Hello'\n",
        "str2 = 'World'\n",
        "str3 = str1 + ' ' + str2\n",
        "print(str3)"
      ],
      "metadata": {
        "colab": {
          "base_uri": "https://localhost:8080/"
        },
        "id": "q0nxj12oIwob",
        "outputId": "aa2e3cec-ee5c-4115-8fbe-091004134ebe"
      },
      "execution_count": 13,
      "outputs": [
        {
          "output_type": "stream",
          "name": "stdout",
          "text": [
            "Hello World\n"
          ]
        }
      ]
    },
    {
      "cell_type": "markdown",
      "source": [
        "**Repetition**\n",
        "\n",
        "You can repeat strings using the * operator."
      ],
      "metadata": {
        "id": "_7Xj_5JpJmsd"
      }
    },
    {
      "cell_type": "code",
      "source": [
        "str4 = 'Hello' * 3\n",
        "print(str4)\n"
      ],
      "metadata": {
        "colab": {
          "base_uri": "https://localhost:8080/"
        },
        "id": "Fc93NTFBJexs",
        "outputId": "f59fc329-0b3e-4cb7-f10a-9042889e2e54"
      },
      "execution_count": 17,
      "outputs": [
        {
          "output_type": "stream",
          "name": "stdout",
          "text": [
            "HelloHelloHello\n"
          ]
        }
      ]
    },
    {
      "cell_type": "code",
      "source": [
        "str5 = 'Hello' ' ' * 3\n",
        "print(str5)"
      ],
      "metadata": {
        "id": "e2Hq57M_KNvv",
        "outputId": "76813038-e37e-4541-8974-c5c63fce3f30",
        "colab": {
          "base_uri": "https://localhost:8080/"
        }
      },
      "execution_count": 19,
      "outputs": [
        {
          "output_type": "stream",
          "name": "stdout",
          "text": [
            "Hello Hello Hello \n"
          ]
        }
      ]
    },
    {
      "cell_type": "markdown",
      "source": [
        "**Indexing and Slicing**\n",
        "\n",
        " Strings can be indexed and sliced to access subsets of the string."
      ],
      "metadata": {
        "id": "YSoraOcxKF_-"
      }
    },
    {
      "cell_type": "code",
      "source": [
        "str_1 = 'hello String python'\n",
        "print(str_1[0])\n",
        "print(str_1[1])\n",
        "\n",
        "print(str_1[:])\n",
        "print(str_1[0:1])\n",
        "print(str_1[0:10])\n",
        "\n",
        "print(str_1[0:])\n",
        "print(str_1[:0])\n",
        "print(str_1[2:])\n",
        "\n",
        "print(str_1[-1])\n",
        "print(str_1[-2])\n",
        "\n",
        "print(str_1[0:-1])\n",
        "print(str_1[0:-10])\n",
        "\n",
        "print(str_1[2:-1])\n",
        "print(str_1[3:-3])\n",
        "\n",
        "print(str_1[::])\n",
        "print(str_1[::2])\n",
        "print(str_1[::-1])\n"
      ],
      "metadata": {
        "colab": {
          "base_uri": "https://localhost:8080/"
        },
        "id": "2Z6A7bLjEvsj",
        "outputId": "286f45c4-d3de-4b7c-9962-1921df308f0d"
      },
      "execution_count": 26,
      "outputs": [
        {
          "output_type": "stream",
          "name": "stdout",
          "text": [
            "h\n",
            "e\n",
            "hello String python\n",
            "h\n",
            "hello Stri\n",
            "hello String python\n",
            "\n",
            "llo String python\n",
            "n\n",
            "o\n",
            "hello String pytho\n",
            "hello Str\n",
            "llo String pytho\n",
            "lo String pyt\n",
            "hello String python\n",
            "hloSrn yhn\n",
            "nohtyp gnirtS olleh\n"
          ]
        }
      ]
    },
    {
      "cell_type": "markdown",
      "source": [
        "**Length:**\n",
        "\n",
        "The *len()* function returns the length of the string."
      ],
      "metadata": {
        "id": "cAiBnWYvN0s0"
      }
    },
    {
      "cell_type": "code",
      "source": [
        "print(len(str_1))\n"
      ],
      "metadata": {
        "colab": {
          "base_uri": "https://localhost:8080/"
        },
        "id": "NqSxaZiwE6nH",
        "outputId": "313fae73-9ebc-497e-ea6e-de9a03130f53"
      },
      "execution_count": 27,
      "outputs": [
        {
          "output_type": "stream",
          "name": "stdout",
          "text": [
            "19\n"
          ]
        }
      ]
    },
    {
      "cell_type": "code",
      "source": [],
      "metadata": {
        "id": "dCwczXjBODmH"
      },
      "execution_count": null,
      "outputs": []
    },
    {
      "cell_type": "markdown",
      "source": [
        "## String Methods\n",
        "\n",
        "**Lowercase and Uppercase**"
      ],
      "metadata": {
        "id": "ZqldNBJzOKSO"
      }
    },
    {
      "cell_type": "code",
      "source": [
        "str_2 = 'HELLO AMAN'\n",
        "str_3 = 'hello aman'\n"
      ],
      "metadata": {
        "id": "0BLRhA0lORz5"
      },
      "execution_count": 29,
      "outputs": []
    },
    {
      "cell_type": "code",
      "source": [
        "print(str_2.lower())\n",
        "print(str_3.upper())\n"
      ],
      "metadata": {
        "id": "-hqaDhIJOZXA",
        "outputId": "a1c749a9-fe96-4617-8988-f1835ccba47b",
        "colab": {
          "base_uri": "https://localhost:8080/"
        }
      },
      "execution_count": 30,
      "outputs": [
        {
          "output_type": "stream",
          "name": "stdout",
          "text": [
            "hello aman\n",
            "HELLO AMAN\n"
          ]
        }
      ]
    },
    {
      "cell_type": "markdown",
      "source": [
        "**Strip:** Remove leading and trailing whitespace."
      ],
      "metadata": {
        "id": "nQ18LNgAO80P"
      }
    },
    {
      "cell_type": "code",
      "source": [
        "str_4 = '  Hello, World!  '\n",
        "print(str_4.strip())\n"
      ],
      "metadata": {
        "id": "92-OXOLTOzpb",
        "outputId": "e1adb556-c398-4a51-975d-b3dd8f2a4664",
        "colab": {
          "base_uri": "https://localhost:8080/"
        }
      },
      "execution_count": 31,
      "outputs": [
        {
          "output_type": "stream",
          "name": "stdout",
          "text": [
            "Hello, World!\n"
          ]
        }
      ]
    },
    {
      "cell_type": "markdown",
      "source": [
        "**Replace:** Replace a substring with another substring."
      ],
      "metadata": {
        "id": "-AQjUMQOPUfy"
      }
    },
    {
      "cell_type": "code",
      "source": [
        "str_5 = 'Hello, World!'"
      ],
      "metadata": {
        "id": "oKsWMwpQPcKU"
      },
      "execution_count": 32,
      "outputs": []
    },
    {
      "cell_type": "code",
      "source": [
        "print(str_5.replace('World', 'Python'))\n"
      ],
      "metadata": {
        "id": "B86ILrtXPGDQ",
        "outputId": "9d70829f-228b-4a07-83bc-0287716de85c",
        "colab": {
          "base_uri": "https://localhost:8080/"
        }
      },
      "execution_count": 33,
      "outputs": [
        {
          "output_type": "stream",
          "name": "stdout",
          "text": [
            "Hello, Python!\n"
          ]
        }
      ]
    },
    {
      "cell_type": "markdown",
      "source": [
        "**Split and Join:** Split a string into a list of substrings and join a list of strings into a single string."
      ],
      "metadata": {
        "id": "veAyoTTtP5ON"
      }
    },
    {
      "cell_type": "code",
      "source": [
        "str_5 = 'Hello, World!'\n",
        "words = str_5.split(', ')\n",
        "joined_str = ' '.join(words)\n",
        "\n",
        "print(joined_str)\n"
      ],
      "metadata": {
        "id": "bvvvtRWTPYla",
        "outputId": "aa8cddaf-1b14-4e56-fd1e-ecfb637b4e87",
        "colab": {
          "base_uri": "https://localhost:8080/"
        }
      },
      "execution_count": 37,
      "outputs": [
        {
          "output_type": "stream",
          "name": "stdout",
          "text": [
            "Hello World!\n"
          ]
        }
      ]
    },
    {
      "cell_type": "markdown",
      "source": [
        "**Find and Count:** Find the index of a substring and count occurrences of a substring"
      ],
      "metadata": {
        "id": "18La6n4uQgNz"
      }
    },
    {
      "cell_type": "code",
      "source": [
        "print(str_5.find('World'))\n",
        "print(str_5.count('l'))\n"
      ],
      "metadata": {
        "id": "iHG0Nn2yQLxj",
        "outputId": "a044e01a-2795-40fc-f347-abf135f7ba52",
        "colab": {
          "base_uri": "https://localhost:8080/"
        }
      },
      "execution_count": 38,
      "outputs": [
        {
          "output_type": "stream",
          "name": "stdout",
          "text": [
            "7\n",
            "3\n"
          ]
        }
      ]
    },
    {
      "cell_type": "markdown",
      "source": [
        "## String Formatting\n",
        "\n",
        "\n",
        "\n",
        "---\n",
        "### Old-style (%) formatting\n",
        "\n"
      ],
      "metadata": {
        "id": "fyj7PcspQ7hV"
      }
    },
    {
      "cell_type": "code",
      "source": [
        "name = 'John'\n",
        "age = 30\n",
        "print('My name is %s and I am %d years old.' % (name, age))\n"
      ],
      "metadata": {
        "id": "Qh1fzRS5Q0sd",
        "outputId": "d6c35d81-c6cb-4ff7-a375-816a608e8851",
        "colab": {
          "base_uri": "https://localhost:8080/"
        }
      },
      "execution_count": 39,
      "outputs": [
        {
          "output_type": "stream",
          "name": "stdout",
          "text": [
            "My name is John and I am 30 years old.\n"
          ]
        }
      ]
    },
    {
      "cell_type": "markdown",
      "source": [
        "### str.format() method:"
      ],
      "metadata": {
        "id": "48ppwcwgRL1N"
      }
    },
    {
      "cell_type": "code",
      "source": [
        "print('My name is {} and I am {} years old.'.format(name, age))\n"
      ],
      "metadata": {
        "id": "MK2960uNRHlb",
        "outputId": "3aee65c8-4028-460f-c95d-ad0fc8a24cb6",
        "colab": {
          "base_uri": "https://localhost:8080/"
        }
      },
      "execution_count": 40,
      "outputs": [
        {
          "output_type": "stream",
          "name": "stdout",
          "text": [
            "My name is John and I am 30 years old.\n"
          ]
        }
      ]
    },
    {
      "cell_type": "markdown",
      "source": [
        "### f-strings (formatted string literals)."
      ],
      "metadata": {
        "id": "WksXAp8vRVTe"
      }
    },
    {
      "cell_type": "code",
      "source": [
        "print(f'My name is {name} and I am {age} years old.')\n"
      ],
      "metadata": {
        "id": "EARFGpugRRLR",
        "outputId": "224ff4fa-ac3a-4f67-c91b-3493326f48ff",
        "colab": {
          "base_uri": "https://localhost:8080/"
        }
      },
      "execution_count": 41,
      "outputs": [
        {
          "output_type": "stream",
          "name": "stdout",
          "text": [
            "My name is John and I am 30 years old.\n"
          ]
        }
      ]
    },
    {
      "cell_type": "code",
      "source": [],
      "metadata": {
        "id": "yvBdpL9NRhEd"
      },
      "execution_count": null,
      "outputs": []
    }
  ]
}