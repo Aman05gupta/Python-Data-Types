{
  "nbformat": 4,
  "nbformat_minor": 0,
  "metadata": {
    "colab": {
      "provenance": [],
      "authorship_tag": "ABX9TyPpuXY4VvCOfc3/9WzuVLFz",
      "include_colab_link": true
    },
    "kernelspec": {
      "name": "python3",
      "display_name": "Python 3"
    },
    "language_info": {
      "name": "python"
    }
  },
  "cells": [
    {
      "cell_type": "markdown",
      "metadata": {
        "id": "view-in-github",
        "colab_type": "text"
      },
      "source": [
        "<a href=\"https://colab.research.google.com/github/Aman05gupta/Python-Data-Types/blob/main/sets.ipynb\" target=\"_parent\"><img src=\"https://colab.research.google.com/assets/colab-badge.svg\" alt=\"Open In Colab\"/></a>"
      ]
    },
    {
      "cell_type": "code",
      "execution_count": null,
      "metadata": {
        "id": "n5WRazxzNjWg"
      },
      "outputs": [],
      "source": []
    },
    {
      "cell_type": "markdown",
      "source": [
        "## Creating Sets\n",
        "Sets can be created using curly braces {} or the set() function. Here are a few ways to create sets:"
      ],
      "metadata": {
        "id": "BtmSSlvuNpAF"
      }
    },
    {
      "cell_type": "code",
      "source": [
        "# Creating a set with curly braces\n",
        "my_set = {1, 2, 3, 4, 5}\n",
        "print(my_set)"
      ],
      "metadata": {
        "colab": {
          "base_uri": "https://localhost:8080/"
        },
        "id": "XkBmz_V8NqvM",
        "outputId": "238ea4f6-5ff2-48fa-f4f3-15cbf8dd041d"
      },
      "execution_count": 1,
      "outputs": [
        {
          "output_type": "stream",
          "name": "stdout",
          "text": [
            "{1, 2, 3, 4, 5}\n"
          ]
        }
      ]
    },
    {
      "cell_type": "code",
      "source": [
        "Days = {\"Monday\", \"Tuesday\", \"Wednesday\", \"Thursday\", \"Friday\", \"Saturday\", \"Sunday\"}\n",
        "print(Days)\n",
        "print(type(Days))\n",
        "print(\"looping through the set elements ... \")\n",
        "for i in Days:\n",
        "    print(i)"
      ],
      "metadata": {
        "colab": {
          "base_uri": "https://localhost:8080/"
        },
        "id": "ioIH9bRgQHRZ",
        "outputId": "6edd9e00-7113-4075-8fe4-ddaabacc52ed"
      },
      "execution_count": 25,
      "outputs": [
        {
          "output_type": "stream",
          "name": "stdout",
          "text": [
            "{'Tuesday', 'Wednesday', 'Saturday', 'Sunday', 'Thursday', 'Monday', 'Friday'}\n",
            "<class 'set'>\n",
            "looping through the set elements ... \n",
            "Tuesday\n",
            "Wednesday\n",
            "Saturday\n",
            "Sunday\n",
            "Thursday\n",
            "Monday\n",
            "Friday\n"
          ]
        }
      ]
    },
    {
      "cell_type": "code",
      "source": [
        "# Creating an empty set\n",
        "empty_set = set()\n",
        "print(empty_set)\n",
        "\n"
      ],
      "metadata": {
        "colab": {
          "base_uri": "https://localhost:8080/"
        },
        "id": "VNrBNO1gNzzw",
        "outputId": "21aa6288-fdef-471c-c18b-fc3b375abe8d"
      },
      "execution_count": 2,
      "outputs": [
        {
          "output_type": "stream",
          "name": "stdout",
          "text": [
            "set()\n"
          ]
        }
      ]
    },
    {
      "cell_type": "code",
      "source": [
        "Days = set([\"Monday\", \"Tuesday\", \"Wednesday\", \"Thursday\", \"Friday\", \"Saturday\", \"Sunday\"])\n",
        "print(Days)\n",
        "print(type(Days))\n",
        "print(\"looping through the set elements ... \")\n",
        "for i in Days:\n",
        "    print(i)"
      ],
      "metadata": {
        "colab": {
          "base_uri": "https://localhost:8080/"
        },
        "id": "PMeb6VeCQNlb",
        "outputId": "d6a71aa7-bc30-4b5b-c99b-78150e834735"
      },
      "execution_count": 26,
      "outputs": [
        {
          "output_type": "stream",
          "name": "stdout",
          "text": [
            "{'Tuesday', 'Wednesday', 'Saturday', 'Sunday', 'Thursday', 'Monday', 'Friday'}\n",
            "<class 'set'>\n",
            "looping through the set elements ... \n",
            "Tuesday\n",
            "Wednesday\n",
            "Saturday\n",
            "Sunday\n",
            "Thursday\n",
            "Monday\n",
            "Friday\n"
          ]
        }
      ]
    },
    {
      "cell_type": "code",
      "source": [
        "# Creating a set from a list\n",
        "set_from_list = set([1, 2, 2, 3, 4])\n",
        "print(set_from_list)\n"
      ],
      "metadata": {
        "colab": {
          "base_uri": "https://localhost:8080/"
        },
        "id": "Cwxj4gF6N9L_",
        "outputId": "dcb7a305-1dda-40cd-b8a5-8988391e7cd9"
      },
      "execution_count": 4,
      "outputs": [
        {
          "output_type": "stream",
          "name": "stdout",
          "text": [
            "{1, 2, 3, 4}\n"
          ]
        }
      ]
    },
    {
      "cell_type": "markdown",
      "source": [
        "It can contain any type of element such as integer, float, tuple etc. But mutable elements (list, dictionary, set) can't be a member of set.\n",
        "\n",
        "\n",
        "---\n",
        "\n",
        "\n",
        "\n",
        "we have created two sets, the set set1 have immutable elements and set2 have one mutable element as a list. While checking the type of set2, it raised an error, which means set can contain only immutable elements."
      ],
      "metadata": {
        "id": "8BtklUb6QX_V"
      }
    },
    {
      "cell_type": "code",
      "source": [
        "# Creating a set which have immutable elements\n",
        "set_1 = {1,2,3, \"AmanGupta\", 20.5, 14}\n",
        "print(type(set_1))\n",
        "\n",
        "#Creating a set which have mutable element\n",
        "set_2 = {1,2,3,[\"Amangupta\",4]}\n",
        "print(type(set_2))"
      ],
      "metadata": {
        "colab": {
          "base_uri": "https://localhost:8080/",
          "height": 211
        },
        "id": "9_hzfYUIQb9r",
        "outputId": "6cdf7efa-b98a-4a4e-e073-8c65222d0e1d"
      },
      "execution_count": 30,
      "outputs": [
        {
          "output_type": "stream",
          "name": "stdout",
          "text": [
            "<class 'set'>\n"
          ]
        },
        {
          "output_type": "error",
          "ename": "TypeError",
          "evalue": "unhashable type: 'list'",
          "traceback": [
            "\u001b[0;31m---------------------------------------------------------------------------\u001b[0m",
            "\u001b[0;31mTypeError\u001b[0m                                 Traceback (most recent call last)",
            "\u001b[0;32m<ipython-input-30-959653da7e62>\u001b[0m in \u001b[0;36m<cell line: 6>\u001b[0;34m()\u001b[0m\n\u001b[1;32m      4\u001b[0m \u001b[0;34m\u001b[0m\u001b[0m\n\u001b[1;32m      5\u001b[0m \u001b[0;31m#Creating a set which have mutable element\u001b[0m\u001b[0;34m\u001b[0m\u001b[0;34m\u001b[0m\u001b[0m\n\u001b[0;32m----> 6\u001b[0;31m \u001b[0mset_2\u001b[0m \u001b[0;34m=\u001b[0m \u001b[0;34m{\u001b[0m\u001b[0;36m1\u001b[0m\u001b[0;34m,\u001b[0m\u001b[0;36m2\u001b[0m\u001b[0;34m,\u001b[0m\u001b[0;36m3\u001b[0m\u001b[0;34m,\u001b[0m\u001b[0;34m[\u001b[0m\u001b[0;34m\"Amangupta\"\u001b[0m\u001b[0;34m,\u001b[0m\u001b[0;36m4\u001b[0m\u001b[0;34m]\u001b[0m\u001b[0;34m}\u001b[0m\u001b[0;34m\u001b[0m\u001b[0;34m\u001b[0m\u001b[0m\n\u001b[0m\u001b[1;32m      7\u001b[0m \u001b[0mprint\u001b[0m\u001b[0;34m(\u001b[0m\u001b[0mtype\u001b[0m\u001b[0;34m(\u001b[0m\u001b[0mset_2\u001b[0m\u001b[0;34m)\u001b[0m\u001b[0;34m)\u001b[0m\u001b[0;34m\u001b[0m\u001b[0;34m\u001b[0m\u001b[0m\n",
            "\u001b[0;31mTypeError\u001b[0m: unhashable type: 'list'"
          ]
        }
      ]
    },
    {
      "cell_type": "markdown",
      "source": [
        "Creating an empty set is a bit different because empty curly {} braces are also used to create a dictionary as well. So Python provides the set() method used without an argument to create an empty set."
      ],
      "metadata": {
        "id": "97-1YUjnRW8U"
      }
    },
    {
      "cell_type": "code",
      "source": [
        "# Empty curly braces will create dictionary\n",
        "set3 = {}\n",
        "print(type(set3))\n",
        "\n",
        "# Empty set using set() function\n",
        "set4 = set()\n",
        "print(type(set4))"
      ],
      "metadata": {
        "colab": {
          "base_uri": "https://localhost:8080/"
        },
        "id": "j0j4hb78RiVu",
        "outputId": "a3fdb8f4-5f8c-427b-aa87-f427b9b159ff"
      },
      "execution_count": 31,
      "outputs": [
        {
          "output_type": "stream",
          "name": "stdout",
          "text": [
            "<class 'dict'>\n",
            "<class 'set'>\n"
          ]
        }
      ]
    },
    {
      "cell_type": "markdown",
      "source": [
        "Let's see what happened if we provide the duplicate element to the set."
      ],
      "metadata": {
        "id": "6Ft9b6gmRp8L"
      }
    },
    {
      "cell_type": "code",
      "source": [
        "set5 = {1,2,4,4,5,8,9,9,10}\n",
        "print(\"Return set with unique elements:\",set5)\n"
      ],
      "metadata": {
        "colab": {
          "base_uri": "https://localhost:8080/"
        },
        "id": "JZXDpnaWRtcs",
        "outputId": "b8452c52-2cd5-4b9e-a3b3-4e030d99e9b4"
      },
      "execution_count": 32,
      "outputs": [
        {
          "output_type": "stream",
          "name": "stdout",
          "text": [
            "Return set with unique elements: {1, 2, 4, 5, 8, 9, 10}\n"
          ]
        }
      ]
    },
    {
      "cell_type": "markdown",
      "source": [
        "## Basic Set Operations\n",
        "Adding and Removing Elements"
      ],
      "metadata": {
        "id": "Y_WjWcjjOFvJ"
      }
    },
    {
      "cell_type": "markdown",
      "source": [
        "add(): Adds an element to the set."
      ],
      "metadata": {
        "id": "sV-GEVSCOIv_"
      }
    },
    {
      "cell_type": "code",
      "source": [
        "my_set.add(6)\n",
        "print(my_set)\n"
      ],
      "metadata": {
        "colab": {
          "base_uri": "https://localhost:8080/"
        },
        "id": "hdx0WGGmN-BD",
        "outputId": "674c49cd-a3a1-46f0-84df-12d55172be50"
      },
      "execution_count": 6,
      "outputs": [
        {
          "output_type": "stream",
          "name": "stdout",
          "text": [
            "{1, 2, 3, 4, 5, 6}\n"
          ]
        }
      ]
    },
    {
      "cell_type": "code",
      "source": [
        "Months = set([\"January\",\"February\", \"March\", \"April\", \"May\", \"June\"])\n",
        "print(\"\\nprinting the original set ... \")\n",
        "print(Months)\n",
        "print(\"\\nAdding other months to the set...\");\n",
        "Months.add(\"July\");\n",
        "Months.add (\"August\");\n",
        "print(\"\\nPrinting the modified set...\");\n",
        "print(Months)\n",
        "print(\"\\nlooping through the set elements ... \")\n",
        "for i in Months:\n",
        "    print(i)"
      ],
      "metadata": {
        "colab": {
          "base_uri": "https://localhost:8080/"
        },
        "id": "cN65PaDcR0xB",
        "outputId": "7136bfab-0d88-448c-880b-c4ad592c0225"
      },
      "execution_count": 34,
      "outputs": [
        {
          "output_type": "stream",
          "name": "stdout",
          "text": [
            "\n",
            "printing the original set ... \n",
            "{'March', 'February', 'June', 'April', 'May', 'January'}\n",
            "\n",
            "Adding other months to the set...\n",
            "\n",
            "Printing the modified set...\n",
            "{'March', 'February', 'June', 'July', 'April', 'May', 'August', 'January'}\n",
            "\n",
            "looping through the set elements ... \n",
            "March\n",
            "February\n",
            "June\n",
            "July\n",
            "April\n",
            "May\n",
            "August\n",
            "January\n"
          ]
        }
      ]
    },
    {
      "cell_type": "markdown",
      "source": [
        "update()"
      ],
      "metadata": {
        "id": "ngym-QTcSEZX"
      }
    },
    {
      "cell_type": "code",
      "source": [
        "Months = set([\"January\",\"February\", \"March\", \"April\", \"May\", \"June\"])\n",
        "print(\"\\nprinting the original set ... \")\n",
        "print(Months)\n",
        "print(\"\\nupdating the original set ... \")\n",
        "Months.update([\"July\",\"August\",\"September\",\"October\"]);\n",
        "print(\"\\nprinting the modified set ... \")\n",
        "print(Months);"
      ],
      "metadata": {
        "colab": {
          "base_uri": "https://localhost:8080/"
        },
        "id": "powv2_taSLTr",
        "outputId": "25708571-9a6f-4e19-b08a-d3bb9d0d244f"
      },
      "execution_count": 35,
      "outputs": [
        {
          "output_type": "stream",
          "name": "stdout",
          "text": [
            "\n",
            "printing the original set ... \n",
            "{'March', 'February', 'June', 'April', 'May', 'January'}\n",
            "\n",
            "updating the original set ... \n",
            "\n",
            "printing the modified set ... \n",
            "{'March', 'February', 'June', 'July', 'October', 'April', 'May', 'September', 'August', 'January'}\n"
          ]
        }
      ]
    },
    {
      "cell_type": "markdown",
      "source": [
        "remove(): Removes an element from the set. Raises a KeyError if the element is not found."
      ],
      "metadata": {
        "id": "nvoqLWfdOQgT"
      }
    },
    {
      "cell_type": "code",
      "source": [
        "\n",
        "my_set.remove(3)\n",
        "print(my_set)"
      ],
      "metadata": {
        "colab": {
          "base_uri": "https://localhost:8080/"
        },
        "id": "irfUydZQOM3M",
        "outputId": "10a00475-ac65-4f49-d569-8091a9680989"
      },
      "execution_count": 10,
      "outputs": [
        {
          "output_type": "stream",
          "name": "stdout",
          "text": [
            "{1, 2, 4, 5}\n"
          ]
        }
      ]
    },
    {
      "cell_type": "code",
      "source": [
        "months = set([\"January\",\"February\", \"March\", \"April\", \"May\", \"June\"])\n",
        "print(\"\\nprinting the original set ... \")\n",
        "print(months)\n",
        "print(\"\\nRemoving some months from the set...\");\n",
        "months.remove(\"January\");\n",
        "months.remove(\"May\");\n",
        "print(\"\\nPrinting the modified set...\");\n",
        "print(months)"
      ],
      "metadata": {
        "colab": {
          "base_uri": "https://localhost:8080/"
        },
        "id": "o6ifsMhpSWMk",
        "outputId": "139ec40b-c746-4534-fe3b-58cb073de6e3"
      },
      "execution_count": 37,
      "outputs": [
        {
          "output_type": "stream",
          "name": "stdout",
          "text": [
            "\n",
            "printing the original set ... \n",
            "{'March', 'February', 'June', 'April', 'May', 'January'}\n",
            "\n",
            "Removing some months from the set...\n",
            "\n",
            "Printing the modified set...\n",
            "{'March', 'February', 'June', 'April'}\n"
          ]
        }
      ]
    },
    {
      "cell_type": "markdown",
      "source": [
        "discard(): Removes an element from the set if it is present. Does not raise an error if the element is not found."
      ],
      "metadata": {
        "id": "VYdvhjNROmq-"
      }
    },
    {
      "cell_type": "code",
      "source": [
        "my_set.discard(5)\n",
        "print(my_set)\n"
      ],
      "metadata": {
        "colab": {
          "base_uri": "https://localhost:8080/"
        },
        "id": "1a4xDunBOS5D",
        "outputId": "7df577ba-c888-42ff-c746-444c84a99cd7"
      },
      "execution_count": 11,
      "outputs": [
        {
          "output_type": "stream",
          "name": "stdout",
          "text": [
            "{1, 2, 4}\n"
          ]
        }
      ]
    },
    {
      "cell_type": "code",
      "source": [
        "months = set([\"January\",\"February\", \"March\", \"April\", \"May\", \"June\"])\n",
        "print(\"\\nprinting the original set ... \")\n",
        "print(months)\n",
        "print(\"\\nRemoving some months from the set...\");\n",
        "months.discard(\"January\");\n",
        "months.discard(\"May\");\n",
        "print(\"\\nPrinting the modified set...\");\n",
        "print(months)\n",
        "print(\"\\nlooping through the set elements ... \")\n",
        "for i in months:\n",
        "    print(i)"
      ],
      "metadata": {
        "colab": {
          "base_uri": "https://localhost:8080/"
        },
        "id": "hUNWlg2jSSGJ",
        "outputId": "fcc6e264-1e44-4b2c-90bc-1d2390a77f09"
      },
      "execution_count": 36,
      "outputs": [
        {
          "output_type": "stream",
          "name": "stdout",
          "text": [
            "\n",
            "printing the original set ... \n",
            "{'March', 'February', 'June', 'April', 'May', 'January'}\n",
            "\n",
            "Removing some months from the set...\n",
            "\n",
            "Printing the modified set...\n",
            "{'March', 'February', 'June', 'April'}\n",
            "\n",
            "looping through the set elements ... \n",
            "March\n",
            "February\n",
            "June\n",
            "April\n"
          ]
        }
      ]
    },
    {
      "cell_type": "markdown",
      "source": [
        "### Difference between discard() and remove()\n",
        "\n",
        "Despite the fact that discard() and remove() method both perform the same task, There is one main difference between discard() and remove().\n",
        "\n",
        "If the key to be deleted from the set using discard() doesn't exist in the set, the Python will not give the error. The program maintains its control flow.\n",
        "\n",
        "On the other hand, if the item to be deleted from the set using remove() doesn't exist in the set, the Python will raise an error.\n",
        "\n",
        "\n"
      ],
      "metadata": {
        "id": "WC35UZ5FSsfk"
      }
    },
    {
      "cell_type": "code",
      "source": [
        "Months = set([\"January\",\"February\", \"March\", \"April\", \"May\", \"June\"])\n",
        "print(\"\\nprinting the original set ... \")\n",
        "print(Months)\n",
        "print(\"\\nRemoving items through discard() method...\");\n",
        "Months.discard(\"Feb\"); #will not give an error although the key feb is not available in the set\n",
        "print(\"\\nprinting the modified set...\")\n",
        "print(Months)\n",
        "print(\"\\nRemoving items through remove() method...\");\n",
        "Months.remove(\"Jan\") #will give an error as the key jan is not available in the set.\n",
        "print(\"\\nPrinting the modified set...\")\n",
        "print(Months)"
      ],
      "metadata": {
        "colab": {
          "base_uri": "https://localhost:8080/",
          "height": 384
        },
        "id": "wYJ3SQPkS08R",
        "outputId": "fbd4afd4-ea62-4dda-cd6d-e5362221c274"
      },
      "execution_count": 40,
      "outputs": [
        {
          "output_type": "stream",
          "name": "stdout",
          "text": [
            "\n",
            "printing the original set ... \n",
            "{'March', 'February', 'June', 'April', 'May', 'January'}\n",
            "\n",
            "Removing items through discard() method...\n",
            "\n",
            "printing the modified set...\n",
            "{'March', 'February', 'June', 'April', 'May', 'January'}\n",
            "\n",
            "Removing items through remove() method...\n"
          ]
        },
        {
          "output_type": "error",
          "ename": "KeyError",
          "evalue": "'Jan'",
          "traceback": [
            "\u001b[0;31m---------------------------------------------------------------------------\u001b[0m",
            "\u001b[0;31mKeyError\u001b[0m                                  Traceback (most recent call last)",
            "\u001b[0;32m<ipython-input-40-12555e9b4959>\u001b[0m in \u001b[0;36m<cell line: 9>\u001b[0;34m()\u001b[0m\n\u001b[1;32m      7\u001b[0m \u001b[0mprint\u001b[0m\u001b[0;34m(\u001b[0m\u001b[0mMonths\u001b[0m\u001b[0;34m)\u001b[0m\u001b[0;34m\u001b[0m\u001b[0;34m\u001b[0m\u001b[0m\n\u001b[1;32m      8\u001b[0m \u001b[0mprint\u001b[0m\u001b[0;34m(\u001b[0m\u001b[0;34m\"\\nRemoving items through remove() method...\"\u001b[0m\u001b[0;34m)\u001b[0m\u001b[0;34m;\u001b[0m\u001b[0;34m\u001b[0m\u001b[0;34m\u001b[0m\u001b[0m\n\u001b[0;32m----> 9\u001b[0;31m \u001b[0mMonths\u001b[0m\u001b[0;34m.\u001b[0m\u001b[0mremove\u001b[0m\u001b[0;34m(\u001b[0m\u001b[0;34m\"Jan\"\u001b[0m\u001b[0;34m)\u001b[0m \u001b[0;31m#will give an error as the key jan is not available in the set.\u001b[0m\u001b[0;34m\u001b[0m\u001b[0;34m\u001b[0m\u001b[0m\n\u001b[0m\u001b[1;32m     10\u001b[0m \u001b[0mprint\u001b[0m\u001b[0;34m(\u001b[0m\u001b[0;34m\"\\nPrinting the modified set...\"\u001b[0m\u001b[0;34m)\u001b[0m\u001b[0;34m\u001b[0m\u001b[0;34m\u001b[0m\u001b[0m\n\u001b[1;32m     11\u001b[0m \u001b[0mprint\u001b[0m\u001b[0;34m(\u001b[0m\u001b[0mMonths\u001b[0m\u001b[0;34m)\u001b[0m\u001b[0;34m\u001b[0m\u001b[0;34m\u001b[0m\u001b[0m\n",
            "\u001b[0;31mKeyError\u001b[0m: 'Jan'"
          ]
        }
      ]
    },
    {
      "cell_type": "markdown",
      "source": [
        "pop(): Removes and returns an arbitrary element from the set. Raises a KeyError if the set is empty."
      ],
      "metadata": {
        "id": "KgwEL8qGOslu"
      }
    },
    {
      "cell_type": "code",
      "source": [
        "element = my_set.pop()\n",
        "print(element)\n",
        "print(my_set)\n"
      ],
      "metadata": {
        "colab": {
          "base_uri": "https://localhost:8080/"
        },
        "id": "g91cYhT_Opb2",
        "outputId": "20285131-a6c1-4abd-f1e5-f8d0dd26ca97"
      },
      "execution_count": 12,
      "outputs": [
        {
          "output_type": "stream",
          "name": "stdout",
          "text": [
            "1\n",
            "{2, 4}\n"
          ]
        }
      ]
    },
    {
      "cell_type": "code",
      "source": [
        "Months = set([\"January\",\"February\", \"March\", \"April\", \"May\", \"June\"])\n",
        "print(\"\\nprinting the original set ... \")\n",
        "print(Months)\n",
        "print(\"\\nRemoving some months from the set...\");\n",
        "Months.pop();\n",
        "Months.pop();\n",
        "print(\"\\nPrinting the modified set...\");\n",
        "print(Months)"
      ],
      "metadata": {
        "colab": {
          "base_uri": "https://localhost:8080/"
        },
        "id": "T5Yyht9-SbPu",
        "outputId": "957b5ddb-98ca-4f46-b247-550220d2444d"
      },
      "execution_count": 38,
      "outputs": [
        {
          "output_type": "stream",
          "name": "stdout",
          "text": [
            "\n",
            "printing the original set ... \n",
            "{'March', 'February', 'June', 'April', 'May', 'January'}\n",
            "\n",
            "Removing some months from the set...\n",
            "\n",
            "Printing the modified set...\n",
            "{'June', 'April', 'May', 'January'}\n"
          ]
        }
      ]
    },
    {
      "cell_type": "markdown",
      "source": [
        "clear(): Removes all elements from the set."
      ],
      "metadata": {
        "id": "5U5cGnaTOzsY"
      }
    },
    {
      "cell_type": "code",
      "source": [
        "my_set.clear()\n",
        "print(my_set)\n"
      ],
      "metadata": {
        "colab": {
          "base_uri": "https://localhost:8080/"
        },
        "id": "sgMyKnbaOwkF",
        "outputId": "0f21316b-e62a-4254-df7f-09a8ecf35ff2"
      },
      "execution_count": 13,
      "outputs": [
        {
          "output_type": "stream",
          "name": "stdout",
          "text": [
            "set()\n"
          ]
        }
      ]
    },
    {
      "cell_type": "code",
      "source": [
        "Months = set([\"January\",\"February\", \"March\", \"April\", \"May\", \"June\"])\n",
        "print(\"\\nprinting the original set ... \")\n",
        "print(Months)\n",
        "print(\"\\nRemoving all the items from the set...\");\n",
        "Months.clear()\n",
        "print(\"\\nPrinting the modified set...\")\n",
        "print(Months)"
      ],
      "metadata": {
        "colab": {
          "base_uri": "https://localhost:8080/"
        },
        "id": "ONfAQeXrSi2I",
        "outputId": "b531451f-e37f-4781-a35e-31089aacee8f"
      },
      "execution_count": 39,
      "outputs": [
        {
          "output_type": "stream",
          "name": "stdout",
          "text": [
            "\n",
            "printing the original set ... \n",
            "{'March', 'February', 'June', 'April', 'May', 'January'}\n",
            "\n",
            "Removing all the items from the set...\n",
            "\n",
            "Printing the modified set...\n",
            "set()\n"
          ]
        }
      ]
    },
    {
      "cell_type": "markdown",
      "source": [
        "# Set Operations\n",
        "Sets support several mathematical operations:\n",
        "\n",
        "**union():** Returns a new set with elements from both sets."
      ],
      "metadata": {
        "id": "-RK_juMYO6Hx"
      }
    },
    {
      "cell_type": "code",
      "source": [
        "set1 = {1, 2, 3}\n",
        "set2 = {3, 4, 5}\n",
        "union_set = set1.union(set2)\n",
        "print(union_set)\n"
      ],
      "metadata": {
        "colab": {
          "base_uri": "https://localhost:8080/"
        },
        "id": "8v6EU_cMO20i",
        "outputId": "7bf1c1e0-b011-467d-9625-ff50953b127a"
      },
      "execution_count": 14,
      "outputs": [
        {
          "output_type": "stream",
          "name": "stdout",
          "text": [
            "{1, 2, 3, 4, 5}\n"
          ]
        }
      ]
    },
    {
      "cell_type": "code",
      "source": [
        "Days1 = {\"Monday\",\"Tuesday\",\"Wednesday\",\"Thursday\", \"Sunday\"}\n",
        "Days2 = {\"Friday\",\"Saturday\",\"Sunday\"}\n",
        "print(Days1|Days2) #printing the union of the sets"
      ],
      "metadata": {
        "colab": {
          "base_uri": "https://localhost:8080/"
        },
        "id": "yWcCIUYBTEH1",
        "outputId": "0af8fb24-eb69-435b-8208-178588606878"
      },
      "execution_count": 41,
      "outputs": [
        {
          "output_type": "stream",
          "name": "stdout",
          "text": [
            "{'Tuesday', 'Wednesday', 'Sunday', 'Thursday', 'Monday', 'Saturday', 'Friday'}\n"
          ]
        }
      ]
    },
    {
      "cell_type": "code",
      "source": [
        "Days1 = {\"Monday\",\"Tuesday\",\"Wednesday\",\"Thursday\"}\n",
        "Days2 = {\"Friday\",\"Saturday\",\"Sunday\"}\n",
        "print(Days1.union(Days2)) #printing the union of the sets"
      ],
      "metadata": {
        "colab": {
          "base_uri": "https://localhost:8080/"
        },
        "id": "CrW-oC-vTJDg",
        "outputId": "3faf1bab-557d-471d-ff08-96be3134609c"
      },
      "execution_count": 42,
      "outputs": [
        {
          "output_type": "stream",
          "name": "stdout",
          "text": [
            "{'Tuesday', 'Thursday', 'Wednesday', 'Saturday', 'Monday', 'Sunday', 'Friday'}\n"
          ]
        }
      ]
    },
    {
      "cell_type": "markdown",
      "source": [
        "**intersection():** Returns a new set with elements common to both sets."
      ],
      "metadata": {
        "id": "ip-fU9xSPCi-"
      }
    },
    {
      "cell_type": "code",
      "source": [
        "intersection_set = set1.intersection(set2)\n",
        "print(intersection_set)\n"
      ],
      "metadata": {
        "colab": {
          "base_uri": "https://localhost:8080/"
        },
        "id": "_RZGrL6GO_5W",
        "outputId": "63a09996-6565-4e36-c12a-5bd220c22af3"
      },
      "execution_count": 16,
      "outputs": [
        {
          "output_type": "stream",
          "name": "stdout",
          "text": [
            "{3}\n"
          ]
        }
      ]
    },
    {
      "cell_type": "code",
      "source": [
        "set1 = {1,2,3,4,5,6,7}\n",
        "set2 = {1,2,20,32,5,9}\n",
        "set3 = set1.intersection(set2)\n",
        "print(set3)"
      ],
      "metadata": {
        "colab": {
          "base_uri": "https://localhost:8080/"
        },
        "id": "_cBubIUETlES",
        "outputId": "caf5d3f9-95c0-4e58-dc44-8f0aab235c2b"
      },
      "execution_count": 46,
      "outputs": [
        {
          "output_type": "stream",
          "name": "stdout",
          "text": [
            "{1, 2, 5}\n"
          ]
        }
      ]
    },
    {
      "cell_type": "code",
      "source": [
        "Days1 = {\"Monday\",\"Tuesday\", \"Wednesday\", \"Thursday\"}\n",
        "Days2 = {\"Monday\",\"Tuesday\",\"Sunday\", \"Friday\"}\n",
        "print(Days1&Days2)"
      ],
      "metadata": {
        "colab": {
          "base_uri": "https://localhost:8080/"
        },
        "id": "Zn7sytXPTY5J",
        "outputId": "3d4b6909-506d-4f33-df1d-415839b1b8f6"
      },
      "execution_count": 43,
      "outputs": [
        {
          "output_type": "stream",
          "name": "stdout",
          "text": [
            "{'Tuesday', 'Monday'}\n"
          ]
        }
      ]
    },
    {
      "cell_type": "code",
      "source": [
        "set1 = {\"Devansh\",\"John\", \"David\", \"Martin\"}\n",
        "set2 = {\"Steve\", \"Milan\", \"David\", \"Martin\"}\n",
        "print(set1.intersection(set2))"
      ],
      "metadata": {
        "colab": {
          "base_uri": "https://localhost:8080/"
        },
        "id": "Wip3Bm4NTcXC",
        "outputId": "33b7611f-3b5c-4490-b277-2568b5fcbad4"
      },
      "execution_count": 45,
      "outputs": [
        {
          "output_type": "stream",
          "name": "stdout",
          "text": [
            "{'Martin', 'David'}\n"
          ]
        }
      ]
    },
    {
      "cell_type": "markdown",
      "source": [
        "**intersection_update()**"
      ],
      "metadata": {
        "id": "oKv2YgciTybN"
      }
    },
    {
      "cell_type": "code",
      "source": [
        "a = {\"Devansh\", \"bob\", \"castle\"}\n",
        "b = {\"castle\", \"dude\", \"emyway\"}\n",
        "c = {\"fuson\", \"gaurav\", \"castle\"}\n",
        "\n",
        "a.intersection_update(b, c)\n",
        "\n",
        "print(a)"
      ],
      "metadata": {
        "colab": {
          "base_uri": "https://localhost:8080/"
        },
        "id": "YF-0zvJaTxnk",
        "outputId": "cc0e0290-495b-4691-a85e-f006bd8ad05d"
      },
      "execution_count": 47,
      "outputs": [
        {
          "output_type": "stream",
          "name": "stdout",
          "text": [
            "{'castle'}\n"
          ]
        }
      ]
    },
    {
      "cell_type": "markdown",
      "source": [
        "**difference():** Returns a new set with elements in the first set but not in the second set."
      ],
      "metadata": {
        "id": "4tRE_8XzPJun"
      }
    },
    {
      "cell_type": "code",
      "source": [
        "difference_set = set1.difference(set2)\n",
        "print(difference_set)\n"
      ],
      "metadata": {
        "colab": {
          "base_uri": "https://localhost:8080/"
        },
        "id": "qjoVIO7gPFg9",
        "outputId": "8a124d94-22ca-4e9c-c359-3601d5126a85"
      },
      "execution_count": 18,
      "outputs": [
        {
          "output_type": "stream",
          "name": "stdout",
          "text": [
            "{1, 2}\n"
          ]
        }
      ]
    },
    {
      "cell_type": "markdown",
      "source": [
        "**symmetric_difference():** Returns a new set with elements in either set but not in both."
      ],
      "metadata": {
        "id": "lLaggS7IPRtM"
      }
    },
    {
      "cell_type": "code",
      "source": [
        "symmetric_difference_set = set1.symmetric_difference(set2)\n",
        "print(symmetric_difference_set)\n"
      ],
      "metadata": {
        "colab": {
          "base_uri": "https://localhost:8080/"
        },
        "id": "k0ZKD5s6PNLC",
        "outputId": "be2e4af7-4a96-4a20-b7dd-a512f6f67dc3"
      },
      "execution_count": 20,
      "outputs": [
        {
          "output_type": "stream",
          "name": "stdout",
          "text": [
            "{1, 2, 4, 5}\n"
          ]
        }
      ]
    },
    {
      "cell_type": "markdown",
      "source": [
        "# Difference between the two sets\n",
        "**Using subtraction** ( - ) operator"
      ],
      "metadata": {
        "id": "dlK9ab94UR0z"
      }
    },
    {
      "cell_type": "code",
      "source": [
        "Days1 = {\"Monday\",  \"Tuesday\", \"Wednesday\", \"Thursday\"}\n",
        "Days2 = {\"Monday\", \"Tuesday\", \"Sunday\"}\n",
        "print(Days1-Days2)"
      ],
      "metadata": {
        "colab": {
          "base_uri": "https://localhost:8080/"
        },
        "id": "akDsg_W2UXhw",
        "outputId": "97ef41b6-c9bb-45de-8ec7-2706066368bd"
      },
      "execution_count": 49,
      "outputs": [
        {
          "output_type": "stream",
          "name": "stdout",
          "text": [
            "{'Wednesday', 'Thursday'}\n"
          ]
        }
      ]
    },
    {
      "cell_type": "markdown",
      "source": [
        "**Using difference() method**"
      ],
      "metadata": {
        "id": "AzGjXiVlUwVy"
      }
    },
    {
      "cell_type": "code",
      "source": [
        "Days1 = {\"Monday\",  \"Tuesday\", \"Wednesday\", \"Thursday\"}\n",
        "Days2 = {\"Monday\", \"Tuesday\", \"Sunday\"}\n",
        "print(Days1.difference(Days2))"
      ],
      "metadata": {
        "colab": {
          "base_uri": "https://localhost:8080/"
        },
        "id": "21f2eFLBU4k2",
        "outputId": "26de99e9-5cf5-4c97-a9ce-c731395ed205"
      },
      "execution_count": 51,
      "outputs": [
        {
          "output_type": "stream",
          "name": "stdout",
          "text": [
            "{'Wednesday', 'Thursday'}\n"
          ]
        }
      ]
    },
    {
      "cell_type": "markdown",
      "source": [
        "# Symmetric Difference of two sets\n",
        "\n",
        " **Using ^ operator**"
      ],
      "metadata": {
        "id": "iRKy29r9U-8J"
      }
    },
    {
      "cell_type": "code",
      "source": [
        "a = {1,2,3,4,5,6}\n",
        "b = {1,2,9,8,10}\n",
        "c = a^b\n",
        "print(c)"
      ],
      "metadata": {
        "colab": {
          "base_uri": "https://localhost:8080/"
        },
        "id": "dxDGm6TRVHcY",
        "outputId": "f61704b1-95e8-46a4-ee3c-456b3adb4a93"
      },
      "execution_count": 52,
      "outputs": [
        {
          "output_type": "stream",
          "name": "stdout",
          "text": [
            "{'gaurav', 'fuson', 'castle'}\n"
          ]
        }
      ]
    },
    {
      "cell_type": "markdown",
      "source": [
        "**Using symmetric_difference() method**"
      ],
      "metadata": {
        "id": "MqweV1JGVKLJ"
      }
    },
    {
      "cell_type": "code",
      "source": [
        "a = {1,2,3,4,5,6}\n",
        "b = {1,2,9,8,10}\n",
        "c = a.symmetric_difference(b)\n",
        "print(c)"
      ],
      "metadata": {
        "colab": {
          "base_uri": "https://localhost:8080/"
        },
        "id": "Mkd_cnPuVPHn",
        "outputId": "2aeb6ba1-0e99-4ac1-fb4a-50e39073c815"
      },
      "execution_count": 53,
      "outputs": [
        {
          "output_type": "stream",
          "name": "stdout",
          "text": [
            "{3, 4, 5, 6, 8, 9, 10}\n"
          ]
        }
      ]
    },
    {
      "cell_type": "markdown",
      "source": [
        "## Set comparisons"
      ],
      "metadata": {
        "id": "rjebNEX-VR5q"
      }
    },
    {
      "cell_type": "code",
      "source": [
        "Days1 = {\"Monday\",  \"Tuesday\", \"Wednesday\", \"Thursday\"}\n",
        "Days2 = {\"Monday\", \"Tuesday\"}\n",
        "Days3 = {\"Monday\", \"Tuesday\", \"Friday\"}\n",
        "\n",
        "#Days1 is the superset of Days2 hence it will print true.\n",
        "print (Days1>Days2)\n",
        "\n",
        "#prints false since Days1 is not the subset of Days2\n",
        "print (Days1<Days2)\n",
        "\n",
        "#prints false since Days2 and Days3 are not equivalent\n",
        "print (Days2 == Days3)"
      ],
      "metadata": {
        "colab": {
          "base_uri": "https://localhost:8080/"
        },
        "id": "YZQ4pYPkVa8w",
        "outputId": "2e681de2-5cf5-4b4e-d5c5-fc915a558fe3"
      },
      "execution_count": 54,
      "outputs": [
        {
          "output_type": "stream",
          "name": "stdout",
          "text": [
            "True\n",
            "False\n",
            "False\n"
          ]
        }
      ]
    },
    {
      "cell_type": "markdown",
      "source": [
        "### FrozenSets\n",
        "\n",
        "a frozen set is an immutable version of the built-in set data type. It is similar to a set, but its contents cannot be changed once a frozen set is created."
      ],
      "metadata": {
        "id": "RMDwR9bOVi_I"
      }
    },
    {
      "cell_type": "code",
      "source": [
        "Frozenset = frozenset([1,2,3,4,5])\n",
        "print(type(Frozenset))\n",
        "print(\"\\nprinting the content of frozen set...\")\n",
        "for i in Frozenset:\n",
        "    print(i);\n",
        "Frozenset.add(6)"
      ],
      "metadata": {
        "colab": {
          "base_uri": "https://localhost:8080/",
          "height": 315
        },
        "id": "vGAg8ecjVo3U",
        "outputId": "0d14ae40-061f-47a5-969a-027def031bc4"
      },
      "execution_count": 55,
      "outputs": [
        {
          "output_type": "stream",
          "name": "stdout",
          "text": [
            "<class 'frozenset'>\n",
            "\n",
            "printing the content of frozen set...\n",
            "1\n",
            "2\n",
            "3\n",
            "4\n",
            "5\n"
          ]
        },
        {
          "output_type": "error",
          "ename": "AttributeError",
          "evalue": "'frozenset' object has no attribute 'add'",
          "traceback": [
            "\u001b[0;31m---------------------------------------------------------------------------\u001b[0m",
            "\u001b[0;31mAttributeError\u001b[0m                            Traceback (most recent call last)",
            "\u001b[0;32m<ipython-input-55-4816df35407c>\u001b[0m in \u001b[0;36m<cell line: 6>\u001b[0;34m()\u001b[0m\n\u001b[1;32m      4\u001b[0m \u001b[0;32mfor\u001b[0m \u001b[0mi\u001b[0m \u001b[0;32min\u001b[0m \u001b[0mFrozenset\u001b[0m\u001b[0;34m:\u001b[0m\u001b[0;34m\u001b[0m\u001b[0;34m\u001b[0m\u001b[0m\n\u001b[1;32m      5\u001b[0m     \u001b[0mprint\u001b[0m\u001b[0;34m(\u001b[0m\u001b[0mi\u001b[0m\u001b[0;34m)\u001b[0m\u001b[0;34m;\u001b[0m\u001b[0;34m\u001b[0m\u001b[0;34m\u001b[0m\u001b[0m\n\u001b[0;32m----> 6\u001b[0;31m \u001b[0mFrozenset\u001b[0m\u001b[0;34m.\u001b[0m\u001b[0madd\u001b[0m\u001b[0;34m(\u001b[0m\u001b[0;36m6\u001b[0m\u001b[0;34m)\u001b[0m\u001b[0;34m\u001b[0m\u001b[0;34m\u001b[0m\u001b[0m\n\u001b[0m",
            "\u001b[0;31mAttributeError\u001b[0m: 'frozenset' object has no attribute 'add'"
          ]
        }
      ]
    },
    {
      "cell_type": "markdown",
      "source": [
        "### Frozenset for the dictionary\n",
        "\n",
        "If we pass the dictionary as the sequence inside the frozenset() method, it will take only the keys from the dictionary and returns a frozenset that contains the key of the dictionary as its elements."
      ],
      "metadata": {
        "id": "7a1a3aGZV5KH"
      }
    },
    {
      "cell_type": "code",
      "source": [
        "Dictionary = {\"Name\":\"John\", \"Country\":\"USA\", \"ID\":101}\n",
        "print(type(Dictionary))\n",
        "Frozenset = frozenset(Dictionary); #Frozenset will contain the keys of the dictionary\n",
        "print(type(Frozenset))\n",
        "for i in Frozenset:\n",
        "    print(i)\n"
      ],
      "metadata": {
        "id": "P6C1T_zqV8m3"
      },
      "execution_count": 55,
      "outputs": []
    },
    {
      "cell_type": "markdown",
      "source": [
        "# Set Methods\n",
        "In addition to the operations above, sets have several useful methods:\n",
        "\n",
        "**issubset():** Checks if one set is a subset of another."
      ],
      "metadata": {
        "id": "7rBzGHFvPcW7"
      }
    },
    {
      "cell_type": "code",
      "source": [
        "set_a = {1, 2}\n",
        "set_b = {1, 2, 3, 4}\n",
        "print(set_a.issubset(set_b))\n"
      ],
      "metadata": {
        "colab": {
          "base_uri": "https://localhost:8080/"
        },
        "id": "XrBZ1FMhPYkS",
        "outputId": "474400f9-233c-440d-f27b-16e213d2ea12"
      },
      "execution_count": 21,
      "outputs": [
        {
          "output_type": "stream",
          "name": "stdout",
          "text": [
            "True\n"
          ]
        }
      ]
    },
    {
      "cell_type": "markdown",
      "source": [
        "**issuperset(**): Checks if one set is a superset of another."
      ],
      "metadata": {
        "id": "cH5FAcm2Pl7y"
      }
    },
    {
      "cell_type": "code",
      "source": [
        "print(set_b.issuperset(set_a))\n"
      ],
      "metadata": {
        "colab": {
          "base_uri": "https://localhost:8080/"
        },
        "id": "No0vTfPIPiwt",
        "outputId": "70a04c5a-d65e-43bc-804d-4fcb254e0b59"
      },
      "execution_count": 22,
      "outputs": [
        {
          "output_type": "stream",
          "name": "stdout",
          "text": [
            "True\n"
          ]
        }
      ]
    },
    {
      "cell_type": "markdown",
      "source": [
        "**isdisjoint():** Checks if two sets have no elements in common."
      ],
      "metadata": {
        "id": "wAZSkSVWPtk5"
      }
    },
    {
      "cell_type": "code",
      "source": [
        "set_c = {5, 6}\n",
        "print(set_a.isdisjoint(set_c))"
      ],
      "metadata": {
        "colab": {
          "base_uri": "https://localhost:8080/"
        },
        "id": "cvqve_j0PqhZ",
        "outputId": "950fe8b9-e415-4004-f9de-92e235940962"
      },
      "execution_count": 24,
      "outputs": [
        {
          "output_type": "stream",
          "name": "stdout",
          "text": [
            "True\n"
          ]
        }
      ]
    },
    {
      "cell_type": "code",
      "source": [],
      "metadata": {
        "id": "4bcfI1zhPw-h"
      },
      "execution_count": null,
      "outputs": []
    },
    {
      "cell_type": "markdown",
      "source": [
        "###  Write a program to remove the given number from the set."
      ],
      "metadata": {
        "id": "kmud6scFWD4d"
      }
    },
    {
      "cell_type": "code",
      "source": [
        "my_set = {1,2,3,4,5,6,12,24}\n",
        "n = int(input(\"Enter the number you want to remove\"))\n",
        "my_set.discard(n)\n",
        "print(\"After Removing:\",my_set)\n"
      ],
      "metadata": {
        "colab": {
          "base_uri": "https://localhost:8080/"
        },
        "id": "fzMHNrAuWFGr",
        "outputId": "a34f10d7-e7a0-4087-f503-607642d0976b"
      },
      "execution_count": 56,
      "outputs": [
        {
          "output_type": "stream",
          "name": "stdout",
          "text": [
            "Enter the number you want to remove2\n",
            "After Removing: {1, 3, 4, 5, 6, 12, 24}\n"
          ]
        }
      ]
    },
    {
      "cell_type": "markdown",
      "source": [
        "### Write a program to add multiple elements to the set."
      ],
      "metadata": {
        "id": "OzajUusAWRkf"
      }
    },
    {
      "cell_type": "code",
      "source": [
        "set1 = set([1,2,4,\"John\",\"CS\"])\n",
        "set1.update([\"Apple\",\"Mango\",\"Grapes\"])\n",
        "print(set1)"
      ],
      "metadata": {
        "colab": {
          "base_uri": "https://localhost:8080/"
        },
        "id": "p6KG6vK7WHW_",
        "outputId": "c7ef2bbd-d675-4128-a243-cb4c860c3e05"
      },
      "execution_count": 57,
      "outputs": [
        {
          "output_type": "stream",
          "name": "stdout",
          "text": [
            "{1, 2, 3, 4, 5, 6, 7}\n"
          ]
        }
      ]
    },
    {
      "cell_type": "markdown",
      "source": [
        "### Write a program to find the union between two set."
      ],
      "metadata": {
        "id": "MxR7J9FOWX9K"
      }
    },
    {
      "cell_type": "code",
      "source": [
        "set1 = set([\"Peter\",\"Joseph\", 65,59,96])\n",
        "set2  = set([\"Peter\",1,2,\"Joseph\"])\n",
        "set3 = set1.union(set2)\n",
        "print(set3)"
      ],
      "metadata": {
        "colab": {
          "base_uri": "https://localhost:8080/"
        },
        "id": "31Vxloq-WZCC",
        "outputId": "425044eb-bd7d-42c4-d0f3-ef1ba2741292"
      },
      "execution_count": 58,
      "outputs": [
        {
          "output_type": "stream",
          "name": "stdout",
          "text": [
            "{96, 65, 2, 1, 'Peter', 'Joseph', 59}\n"
          ]
        }
      ]
    },
    {
      "cell_type": "markdown",
      "source": [
        "### Write a program to find the intersection between two sets"
      ],
      "metadata": {
        "id": "-3JqhS9XWd_z"
      }
    },
    {
      "cell_type": "code",
      "source": [
        "set1 = {23,44,56,67,90,45,\"Javatpoint\"}\n",
        "set2 = {13,23,56,76,\"Sachin\"}\n",
        "set3 = set1.intersection(set2)\n",
        "print(set3)\n"
      ],
      "metadata": {
        "colab": {
          "base_uri": "https://localhost:8080/"
        },
        "id": "2ZVUuHHCWbPC",
        "outputId": "bdd393da-fbb2-4730-ae57-3e6aefa6755c"
      },
      "execution_count": 59,
      "outputs": [
        {
          "output_type": "stream",
          "name": "stdout",
          "text": [
            "{56, 23}\n"
          ]
        }
      ]
    },
    {
      "cell_type": "markdown",
      "source": [
        "### Write the program to add element to the frozenset."
      ],
      "metadata": {
        "id": "PYoV1W1IWkMh"
      }
    },
    {
      "cell_type": "code",
      "source": [
        "set1 = {23,44,56,67,90,45,\"Javatpoint\"}\n",
        "set2 = {13,23,56,76,\"Sachin\"}\n",
        "set3 = set1.intersection(set2)\n",
        "print(set3)"
      ],
      "metadata": {
        "colab": {
          "base_uri": "https://localhost:8080/"
        },
        "id": "_BGvsEqXWh0-",
        "outputId": "0f433948-dcc0-4b7a-ffdc-dcf1ae76333b"
      },
      "execution_count": 60,
      "outputs": [
        {
          "output_type": "stream",
          "name": "stdout",
          "text": [
            "{56, 23}\n"
          ]
        }
      ]
    },
    {
      "cell_type": "code",
      "source": [],
      "metadata": {
        "id": "wXNM19DcWn3O"
      },
      "execution_count": null,
      "outputs": []
    },
    {
      "cell_type": "markdown",
      "source": [
        "### Write the program to find the issuperset, issubset and superset."
      ],
      "metadata": {
        "id": "BsiHmp83WsF0"
      }
    },
    {
      "cell_type": "code",
      "source": [
        "set1 = set([\"Peter\",\"James\",\"Camroon\",\"Ricky\",\"Donald\"])\n",
        "set2 = set([\"Camroon\",\"Washington\",\"Peter\"])\n",
        "set3 = set([\"Peter\"])\n",
        "\n",
        "issubset = set1 >= set2\n",
        "print(issubset)\n",
        "issuperset = set1 <= set2\n",
        "print(issuperset)\n",
        "issubset = set3 <= set2\n",
        "print(issubset)\n",
        "issuperset = set2 >= set3\n",
        "print(issuperset)"
      ],
      "metadata": {
        "colab": {
          "base_uri": "https://localhost:8080/"
        },
        "id": "7D9eDR5fWt4J",
        "outputId": "42942aae-0d98-4e49-cb98-664e16b3ee4d"
      },
      "execution_count": 61,
      "outputs": [
        {
          "output_type": "stream",
          "name": "stdout",
          "text": [
            "False\n",
            "False\n",
            "True\n",
            "True\n"
          ]
        }
      ]
    },
    {
      "cell_type": "code",
      "source": [],
      "metadata": {
        "id": "OpXmP-_iWv0M"
      },
      "execution_count": null,
      "outputs": []
    }
  ]
}