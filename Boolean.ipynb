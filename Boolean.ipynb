{
  "nbformat": 4,
  "nbformat_minor": 0,
  "metadata": {
    "colab": {
      "provenance": [],
      "authorship_tag": "ABX9TyOWQU6PZUxepA3y6Fu8tU76",
      "include_colab_link": true
    },
    "kernelspec": {
      "name": "python3",
      "display_name": "Python 3"
    },
    "language_info": {
      "name": "python"
    }
  },
  "cells": [
    {
      "cell_type": "markdown",
      "metadata": {
        "id": "view-in-github",
        "colab_type": "text"
      },
      "source": [
        "<a href=\"https://colab.research.google.com/github/Aman05gupta/Python-Data-Types/blob/main/Boolean.ipynb\" target=\"_parent\"><img src=\"https://colab.research.google.com/assets/colab-badge.svg\" alt=\"Open In Colab\"/></a>"
      ]
    },
    {
      "cell_type": "code",
      "execution_count": null,
      "metadata": {
        "id": "QFov2PPJGfJT"
      },
      "outputs": [],
      "source": []
    },
    {
      "cell_type": "markdown",
      "source": [
        "# Boolean\n",
        "The bool() function is one of the built in methods in python which outputs the Boolean value depending on the input parameters. The Boolean values True or False are returned from the single argument. The python bool() method converts value to boolean (True or False) using the standard truth testing procedure.\n",
        "\n",
        "\n",
        "---\n",
        "**Creating Booleans**\n",
        "\n",
        "Booleans can be created directly by using the keywords True and False.\n"
      ],
      "metadata": {
        "id": "9zvuScdLGl3-"
      }
    },
    {
      "cell_type": "code",
      "source": [
        "is_true = True\n",
        "is_false = False\n"
      ],
      "metadata": {
        "id": "5ETuhZOhGm3e"
      },
      "execution_count": 1,
      "outputs": []
    },
    {
      "cell_type": "markdown",
      "source": [
        "**Boolean Expressions**"
      ],
      "metadata": {
        "id": "TeZ7LdirHMhJ"
      }
    },
    {
      "cell_type": "code",
      "source": [
        "a = 10\n",
        "b = 20"
      ],
      "metadata": {
        "id": "wJcmSpxmHA4O"
      },
      "execution_count": 2,
      "outputs": []
    },
    {
      "cell_type": "code",
      "source": [
        "print(a == b)"
      ],
      "metadata": {
        "colab": {
          "base_uri": "https://localhost:8080/"
        },
        "id": "R2V1M0nqHSl3",
        "outputId": "f0543666-963c-4e92-a2ab-a36e67b7b9dd"
      },
      "execution_count": 4,
      "outputs": [
        {
          "output_type": "stream",
          "name": "stdout",
          "text": [
            "False\n"
          ]
        }
      ]
    },
    {
      "cell_type": "code",
      "source": [
        "print(a != b)\n"
      ],
      "metadata": {
        "colab": {
          "base_uri": "https://localhost:8080/"
        },
        "id": "3C95akRSHfJi",
        "outputId": "e6a84271-3a3e-4fbb-c563-c896f4548c45"
      },
      "execution_count": 5,
      "outputs": [
        {
          "output_type": "stream",
          "name": "stdout",
          "text": [
            "True\n"
          ]
        }
      ]
    },
    {
      "cell_type": "code",
      "source": [
        "print(a < b)\n"
      ],
      "metadata": {
        "colab": {
          "base_uri": "https://localhost:8080/"
        },
        "id": "K5-8dbblHptd",
        "outputId": "5dd57a26-6cd6-4709-90e2-17de14937958"
      },
      "execution_count": 6,
      "outputs": [
        {
          "output_type": "stream",
          "name": "stdout",
          "text": [
            "True\n"
          ]
        }
      ]
    },
    {
      "cell_type": "code",
      "source": [
        "print(a <= b)\n"
      ],
      "metadata": {
        "colab": {
          "base_uri": "https://localhost:8080/"
        },
        "id": "EwBwKzz2HrmM",
        "outputId": "b2a22bac-abef-4414-a069-7c5ef0d96efa"
      },
      "execution_count": 7,
      "outputs": [
        {
          "output_type": "stream",
          "name": "stdout",
          "text": [
            "True\n"
          ]
        }
      ]
    },
    {
      "cell_type": "code",
      "source": [
        "print(a > b)\n"
      ],
      "metadata": {
        "colab": {
          "base_uri": "https://localhost:8080/"
        },
        "id": "rFb7nWo9Hs9h",
        "outputId": "6fdc4c6c-6cc0-4504-8de5-f8c5efa54ec0"
      },
      "execution_count": 8,
      "outputs": [
        {
          "output_type": "stream",
          "name": "stdout",
          "text": [
            "False\n"
          ]
        }
      ]
    },
    {
      "cell_type": "code",
      "source": [
        "print(a >= b)"
      ],
      "metadata": {
        "colab": {
          "base_uri": "https://localhost:8080/"
        },
        "id": "YtLRd7zGHuhg",
        "outputId": "91fe599d-f00b-436c-ec43-0cb0207316d3"
      },
      "execution_count": 9,
      "outputs": [
        {
          "output_type": "stream",
          "name": "stdout",
          "text": [
            "False\n"
          ]
        }
      ]
    },
    {
      "cell_type": "markdown",
      "source": [
        "**Logical Operators**\n",
        "\n",
        "Logical operators combine multiple Boolean expressions and return a Boolean value.\n",
        "\n",
        "\n",
        "*   **and:** Returns **True** if both operands are **True**\n",
        "*   **or:** Returns **True** if at least one operand is **True**\n",
        "*   **not:** Returns the opposite Boolean value\n",
        "\n"
      ],
      "metadata": {
        "id": "vkQP4LBZH07R"
      }
    },
    {
      "cell_type": "code",
      "source": [
        "x = True\n",
        "y = False"
      ],
      "metadata": {
        "id": "Z07i8oiUH5Qc"
      },
      "execution_count": 10,
      "outputs": []
    },
    {
      "cell_type": "code",
      "source": [
        "print(x and y)\n"
      ],
      "metadata": {
        "colab": {
          "base_uri": "https://localhost:8080/"
        },
        "id": "KBX-UbhYIeOc",
        "outputId": "e8fcaca9-4e35-4be4-f6b3-c07ed667a1ab"
      },
      "execution_count": 11,
      "outputs": [
        {
          "output_type": "stream",
          "name": "stdout",
          "text": [
            "False\n"
          ]
        }
      ]
    },
    {
      "cell_type": "code",
      "source": [
        "print(x or y)\n",
        ""
      ],
      "metadata": {
        "colab": {
          "base_uri": "https://localhost:8080/"
        },
        "id": "orywkKAxIgI_",
        "outputId": "9760dd5f-88c9-4773-cf7b-a249cb4b5ab3"
      },
      "execution_count": 12,
      "outputs": [
        {
          "output_type": "stream",
          "name": "stdout",
          "text": [
            "True\n"
          ]
        }
      ]
    },
    {
      "cell_type": "code",
      "source": [
        "print(not x)"
      ],
      "metadata": {
        "colab": {
          "base_uri": "https://localhost:8080/"
        },
        "id": "JpgUweKJIhNN",
        "outputId": "86c5037d-6cde-426f-9f1d-6e8dd6de3a46"
      },
      "execution_count": 13,
      "outputs": [
        {
          "output_type": "stream",
          "name": "stdout",
          "text": [
            "False\n"
          ]
        }
      ]
    },
    {
      "cell_type": "markdown",
      "source": [
        "**Boolean Type Conversion**\n",
        "\n",
        "You can convert other data types to Booleans using the **bool()** function. In Python, the following values are considered **False:**\n",
        "\n",
        "\n",
        "*   None\n",
        "*   False\n",
        "*   Zero of any numeric type (0, 0.0, 0j)\n",
        "*   Empty sequences and collections ('', (), [], {}, set(), range(0))\n",
        "\n",
        "\n",
        "\n",
        "\n",
        "\n"
      ],
      "metadata": {
        "id": "p30lcMwzImZw"
      }
    },
    {
      "cell_type": "code",
      "source": [
        "print(bool(0))\n"
      ],
      "metadata": {
        "colab": {
          "base_uri": "https://localhost:8080/"
        },
        "id": "-EbzhOHcIhrQ",
        "outputId": "f61c8c8f-219c-4556-fb3c-a1667cfbf7be"
      },
      "execution_count": 14,
      "outputs": [
        {
          "output_type": "stream",
          "name": "stdout",
          "text": [
            "False\n"
          ]
        }
      ]
    },
    {
      "cell_type": "code",
      "source": [
        "print(bool(1))\n",
        ""
      ],
      "metadata": {
        "colab": {
          "base_uri": "https://localhost:8080/"
        },
        "id": "0aOH0pJ5JFEs",
        "outputId": "e8d2abda-7342-481c-d7a8-e2446795bc63"
      },
      "execution_count": 15,
      "outputs": [
        {
          "output_type": "stream",
          "name": "stdout",
          "text": [
            "True\n"
          ]
        }
      ]
    },
    {
      "cell_type": "code",
      "source": [
        "print(bool(\"\"))\n"
      ],
      "metadata": {
        "colab": {
          "base_uri": "https://localhost:8080/"
        },
        "id": "9w6KeOlXJGK_",
        "outputId": "e1d1874f-1e42-42a0-ed52-ff5acbefad29"
      },
      "execution_count": 16,
      "outputs": [
        {
          "output_type": "stream",
          "name": "stdout",
          "text": [
            "False\n"
          ]
        }
      ]
    },
    {
      "cell_type": "code",
      "source": [
        "print(bool(\"Hello\"))"
      ],
      "metadata": {
        "colab": {
          "base_uri": "https://localhost:8080/"
        },
        "id": "1UVC1BAaJHwu",
        "outputId": "1b190aa6-5336-40b8-ae8a-b8c613d6f8f9"
      },
      "execution_count": 17,
      "outputs": [
        {
          "output_type": "stream",
          "name": "stdout",
          "text": [
            "True\n"
          ]
        }
      ]
    },
    {
      "cell_type": "markdown",
      "source": [
        "**Using Booleans in Conditional Statements**\n",
        "\n",
        "Booleans are often used in conditional statements to control the flow of the program."
      ],
      "metadata": {
        "id": "WunSGG71JONH"
      }
    },
    {
      "cell_type": "code",
      "source": [
        "is_active = True\n",
        "\n",
        "if is_active:\n",
        "    print(\"The system is active.\")\n",
        "else:\n",
        "    print(\"The system is inactive.\")\n"
      ],
      "metadata": {
        "colab": {
          "base_uri": "https://localhost:8080/"
        },
        "id": "tPOkxDvSJIHe",
        "outputId": "ee028ca3-a1f7-4629-fb9e-64df4a7197e8"
      },
      "execution_count": 19,
      "outputs": [
        {
          "output_type": "stream",
          "name": "stdout",
          "text": [
            "The system is active.\n"
          ]
        }
      ]
    },
    {
      "cell_type": "markdown",
      "source": [
        "**bool() Function**\n",
        "\n"
      ],
      "metadata": {
        "id": "R1KvGA0eJzTU"
      }
    },
    {
      "cell_type": "code",
      "source": [
        "# Creating an empty list\n",
        "test = []\n",
        "\n",
        "# Printing the value of the list and its boolean value\n",
        "print(test, 'is', bool(test))\n",
        "\n",
        "# Creating a list with one item (0)\n",
        "test = [0]\n",
        "# Printing the value of the list and its boolean value\n",
        "print(test, 'is', bool(test))\n",
        "\n",
        "# Creating a float value of 0.0\n",
        "test = 0.0\n",
        "# Printing the value of the float and its boolean value\n",
        "print(test, 'is', bool(test))\n",
        "\n",
        "# Creating a None value\n",
        "test = None\n",
        "# Printing the value of None and its boolean value\n",
        "print(test, 'is', bool(test))\n",
        "\n",
        "# Creating a boolean value of True\n",
        "test = True\n",
        "# Printing the value of True and its boolean value\n",
        "print(test, 'is', bool(test))\n",
        "\n",
        "# Creating a string value\n",
        "test = 'Easy string'\n",
        "# Printing the value of the string and its boolean value\n",
        "print(test, 'is', bool(test))"
      ],
      "metadata": {
        "colab": {
          "base_uri": "https://localhost:8080/"
        },
        "id": "gc3YPwbTJcD7",
        "outputId": "95266d31-f23c-42fd-db8c-bdb63918dcf1"
      },
      "execution_count": 20,
      "outputs": [
        {
          "output_type": "stream",
          "name": "stdout",
          "text": [
            "[] is False\n",
            "[0] is True\n",
            "0.0 is False\n",
            "None is False\n",
            "True is True\n",
            "Easy string is True\n"
          ]
        }
      ]
    },
    {
      "cell_type": "markdown",
      "source": [
        "\n",
        "\n",
        "Using bool() function to convert the condition to a boolean value"
      ],
      "metadata": {
        "id": "njqwocw2KbWX"
      }
    },
    {
      "cell_type": "code",
      "source": [
        "num = 12\n",
        "if bool(num > 15):\n",
        "    print(\" number is greater than 15\")\n",
        "else:\n",
        "    print(\" number is less than or equal to 15\")"
      ],
      "metadata": {
        "colab": {
          "base_uri": "https://localhost:8080/"
        },
        "id": "8ttbuZysKBhg",
        "outputId": "0f7ca98e-b3fe-4244-a9c2-69f0909db432"
      },
      "execution_count": 21,
      "outputs": [
        {
          "output_type": "stream",
          "name": "stdout",
          "text": [
            " number is less than or equal to 15\n"
          ]
        }
      ]
    },
    {
      "cell_type": "markdown",
      "source": [
        "Using bool() function to check if a value is True or False"
      ],
      "metadata": {
        "id": "W-nCl1mkKvJW"
      }
    },
    {
      "cell_type": "code",
      "source": [
        "val = \" Aman_Gupta \"\n",
        "if bool(val):\n",
        "    print(\"True\")\n",
        "else:\n",
        "    print(\"False\")"
      ],
      "metadata": {
        "colab": {
          "base_uri": "https://localhost:8080/"
        },
        "id": "7-mlXLmLKnj7",
        "outputId": "711d9127-cc23-437c-a116-015d00854019"
      },
      "execution_count": 22,
      "outputs": [
        {
          "output_type": "stream",
          "name": "stdout",
          "text": [
            "True\n"
          ]
        }
      ]
    },
    {
      "cell_type": "markdown",
      "source": [
        "To Check if an empty string is True or False"
      ],
      "metadata": {
        "id": "di4a35QRK8hY"
      }
    },
    {
      "cell_type": "code",
      "source": [
        "emp_str = \"\"\n",
        "if bool(emp_str):\n",
        "    print(\"True\")\n",
        "else:\n",
        "    print(\"False\")"
      ],
      "metadata": {
        "colab": {
          "base_uri": "https://localhost:8080/"
        },
        "id": "1AaMhi5aK3HS",
        "outputId": "357a2ef6-a619-4e0f-b9ce-8c8bc0f0eed5"
      },
      "execution_count": 23,
      "outputs": [
        {
          "output_type": "stream",
          "name": "stdout",
          "text": [
            "False\n"
          ]
        }
      ]
    },
    {
      "cell_type": "code",
      "source": [],
      "metadata": {
        "id": "dMrXH_vgK-z-"
      },
      "execution_count": null,
      "outputs": []
    },
    {
      "cell_type": "markdown",
      "source": [
        "To Check if a zero value is True or False"
      ],
      "metadata": {
        "id": "LkpjpSsBK_Z_"
      }
    },
    {
      "cell_type": "code",
      "source": [
        "zero_val = 0\n",
        "if bool(zero_val):\n",
        "    print(\"True\")\n",
        "else:\n",
        "    print(\"False\")\n"
      ],
      "metadata": {
        "colab": {
          "base_uri": "https://localhost:8080/"
        },
        "id": "Oqsv4bcOLCgq",
        "outputId": "b727966d-abea-47d4-dc63-764ecbd5c122"
      },
      "execution_count": 24,
      "outputs": [
        {
          "output_type": "stream",
          "name": "stdout",
          "text": [
            "False\n"
          ]
        }
      ]
    },
    {
      "cell_type": "code",
      "source": [],
      "metadata": {
        "id": "4bMc47jTLFAC"
      },
      "execution_count": null,
      "outputs": []
    }
  ]
}