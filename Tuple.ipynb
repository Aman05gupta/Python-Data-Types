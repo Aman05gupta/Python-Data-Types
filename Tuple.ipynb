{
  "nbformat": 4,
  "nbformat_minor": 0,
  "metadata": {
    "colab": {
      "provenance": [],
      "authorship_tag": "ABX9TyMSGsaqDbjft6ZKBZfNAQeQ",
      "include_colab_link": true
    },
    "kernelspec": {
      "name": "python3",
      "display_name": "Python 3"
    },
    "language_info": {
      "name": "python"
    }
  },
  "cells": [
    {
      "cell_type": "markdown",
      "metadata": {
        "id": "view-in-github",
        "colab_type": "text"
      },
      "source": [
        "<a href=\"https://colab.research.google.com/github/Aman05gupta/Python-Data-Types/blob/main/Tuple.ipynb\" target=\"_parent\"><img src=\"https://colab.research.google.com/assets/colab-badge.svg\" alt=\"Open In Colab\"/></a>"
      ]
    },
    {
      "cell_type": "code",
      "execution_count": null,
      "metadata": {
        "id": "VcpZcGBZZ4BX"
      },
      "outputs": [],
      "source": []
    },
    {
      "cell_type": "markdown",
      "source": [
        "# Tuple\n",
        "A tuple is an immutable sequence of elements, similar to a list, but with the key difference that tuples cannot be changed once they are created. This immutability makes tuples useful for situations where you want to store a collection of items that should not be modified accidentally.\n",
        "\n",
        "\n",
        "---\n",
        "## Creating Tuples\n"
      ],
      "metadata": {
        "id": "RfshxFyhakt3"
      }
    },
    {
      "cell_type": "code",
      "source": [
        "my_tuple = (1, 2, 3, 4, 5)\n"
      ],
      "metadata": {
        "id": "MlUS50Toatd_"
      },
      "execution_count": null,
      "outputs": []
    },
    {
      "cell_type": "code",
      "source": [
        "print(my_tuple)"
      ],
      "metadata": {
        "colab": {
          "base_uri": "https://localhost:8080/"
        },
        "id": "a13RaeGOaxTy",
        "outputId": "e5dc3d28-82c6-41af-cd87-4ca7c8d5a775"
      },
      "execution_count": null,
      "outputs": [
        {
          "output_type": "stream",
          "name": "stdout",
          "text": [
            "(1, 2, 3, 4, 5)\n"
          ]
        }
      ]
    },
    {
      "cell_type": "code",
      "source": [
        "another_tuple = 1, 2, 3\n",
        "print(another_tuple)"
      ],
      "metadata": {
        "colab": {
          "base_uri": "https://localhost:8080/"
        },
        "id": "KlZSyg15az75",
        "outputId": "8b1107f6-ee43-416e-a316-6665379d9f25"
      },
      "execution_count": null,
      "outputs": [
        {
          "output_type": "stream",
          "name": "stdout",
          "text": [
            "(1, 2, 3)\n"
          ]
        }
      ]
    },
    {
      "cell_type": "markdown",
      "source": [
        "## Accessing Elements"
      ],
      "metadata": {
        "id": "Sa0u0-DIbDbx"
      }
    },
    {
      "cell_type": "code",
      "source": [
        "print(my_tuple[0])\n",
        "print(my_tuple[2])\n",
        "print(my_tuple[-1])\n"
      ],
      "metadata": {
        "colab": {
          "base_uri": "https://localhost:8080/"
        },
        "id": "1IBXdiANa7Ae",
        "outputId": "a6a190fa-9a58-4956-990c-23600cb4268b"
      },
      "execution_count": null,
      "outputs": [
        {
          "output_type": "stream",
          "name": "stdout",
          "text": [
            "1\n",
            "3\n",
            "5\n"
          ]
        }
      ]
    },
    {
      "cell_type": "markdown",
      "source": [
        "## Immutable Nature"
      ],
      "metadata": {
        "id": "5d6CiTBpbMWK"
      }
    },
    {
      "cell_type": "code",
      "source": [
        "# Raises TypeError: 'tuple' object does not support item assignment\n",
        "my_tuple[0] = 10"
      ],
      "metadata": {
        "colab": {
          "base_uri": "https://localhost:8080/",
          "height": 158
        },
        "collapsed": true,
        "id": "tDGtI5yWbJcu",
        "outputId": "84897000-c844-4944-a186-29fbf9c26580"
      },
      "execution_count": null,
      "outputs": [
        {
          "output_type": "error",
          "ename": "TypeError",
          "evalue": "'tuple' object does not support item assignment",
          "traceback": [
            "\u001b[0;31m---------------------------------------------------------------------------\u001b[0m",
            "\u001b[0;31mTypeError\u001b[0m                                 Traceback (most recent call last)",
            "\u001b[0;32m<ipython-input-7-66961826e134>\u001b[0m in \u001b[0;36m<cell line: 2>\u001b[0;34m()\u001b[0m\n\u001b[1;32m      1\u001b[0m \u001b[0;31m# Raises TypeError: 'tuple' object does not support item assignment\u001b[0m\u001b[0;34m\u001b[0m\u001b[0;34m\u001b[0m\u001b[0m\n\u001b[0;32m----> 2\u001b[0;31m \u001b[0mmy_tuple\u001b[0m\u001b[0;34m[\u001b[0m\u001b[0;36m0\u001b[0m\u001b[0;34m]\u001b[0m \u001b[0;34m=\u001b[0m \u001b[0;36m10\u001b[0m\u001b[0;34m\u001b[0m\u001b[0;34m\u001b[0m\u001b[0m\n\u001b[0m",
            "\u001b[0;31mTypeError\u001b[0m: 'tuple' object does not support item assignment"
          ]
        }
      ]
    },
    {
      "cell_type": "markdown",
      "source": [
        "## Tuple with Different Data Types"
      ],
      "metadata": {
        "id": "APOET-yxbZxA"
      }
    },
    {
      "cell_type": "code",
      "source": [
        "mixed_tuple = (1, 'hello', 3.14, True)\n",
        "print(mixed_tuple)"
      ],
      "metadata": {
        "colab": {
          "base_uri": "https://localhost:8080/"
        },
        "id": "Ed4O7cVFbTH6",
        "outputId": "02be5c50-af21-474e-a2ef-7e7abfdc81cd"
      },
      "execution_count": null,
      "outputs": [
        {
          "output_type": "stream",
          "name": "stdout",
          "text": [
            "(1, 'hello', 3.14, True)\n"
          ]
        }
      ]
    },
    {
      "cell_type": "markdown",
      "source": [
        "## Single Element Tuple\n",
        "To create a tuple with a single element, you need to include a comma , after the element:\n",
        "\n",
        "\n",
        "\n",
        "---\n",
        "Without the comma, Python will interpret (1) as an integer in parentheses, not a tuple.\n"
      ],
      "metadata": {
        "id": "nI8yr20pbnGA"
      }
    },
    {
      "cell_type": "code",
      "source": [
        "single_tuple = (1,)\n",
        "print(single_tuple)\n"
      ],
      "metadata": {
        "colab": {
          "base_uri": "https://localhost:8080/"
        },
        "id": "4rjDpUCqbgg6",
        "outputId": "ea24c7bb-d59c-45ee-b1c3-e15e1ddabd3d"
      },
      "execution_count": null,
      "outputs": [
        {
          "output_type": "stream",
          "name": "stdout",
          "text": [
            "(1,)\n"
          ]
        }
      ]
    },
    {
      "cell_type": "markdown",
      "source": [
        "## Tuple Methods\n",
        "**index():** Returns the index of the first occurrence of a value."
      ],
      "metadata": {
        "id": "jdxQYD68b5-L"
      }
    },
    {
      "cell_type": "code",
      "source": [
        "my_tuple = (1, 2, 3, 2, 4)\n",
        "print(my_tuple.index(2))\n"
      ],
      "metadata": {
        "colab": {
          "base_uri": "https://localhost:8080/"
        },
        "id": "OJtK9g9bbqQS",
        "outputId": "fa17f352-26cd-4b28-db8d-549f4a7da196"
      },
      "execution_count": null,
      "outputs": [
        {
          "output_type": "stream",
          "name": "stdout",
          "text": [
            "1\n"
          ]
        }
      ]
    },
    {
      "cell_type": "markdown",
      "source": [
        " **count():** Returns the number of occurrences of a value."
      ],
      "metadata": {
        "id": "jg3xGaUocHxU"
      }
    },
    {
      "cell_type": "code",
      "source": [
        "my_tuple = (1, 2, 3, 2, 4)\n",
        "print(my_tuple.count(2))"
      ],
      "metadata": {
        "colab": {
          "base_uri": "https://localhost:8080/"
        },
        "id": "Xy8QJunLcDXa",
        "outputId": "0a751c63-da03-4ec2-da06-e490539e9320"
      },
      "execution_count": null,
      "outputs": [
        {
          "output_type": "stream",
          "name": "stdout",
          "text": [
            "2\n"
          ]
        }
      ]
    },
    {
      "cell_type": "markdown",
      "source": [
        "## Tuple Advantages\n",
        "**Immutable:** Once created, tuples cannot be modified, providing data integrity.\n",
        "\n",
        "**Faster than Lists:** Tuples are slightly faster than lists for accessing elements.\n",
        "\n",
        "**Valid Dictionary Keys:** Tuples can be used as keys in dictionaries (lists cannot, due to mutability)."
      ],
      "metadata": {
        "id": "yY9vuHXbcQ5E"
      }
    },
    {
      "cell_type": "code",
      "source": [],
      "metadata": {
        "id": "ZVP_TTswcNKy"
      },
      "execution_count": null,
      "outputs": []
    }
  ]
}