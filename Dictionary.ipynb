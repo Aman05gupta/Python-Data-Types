{
  "nbformat": 4,
  "nbformat_minor": 0,
  "metadata": {
    "colab": {
      "provenance": [],
      "authorship_tag": "ABX9TyPZ6A7IBU3KOPwjsvA+6mC4",
      "include_colab_link": true
    },
    "kernelspec": {
      "name": "python3",
      "display_name": "Python 3"
    },
    "language_info": {
      "name": "python"
    }
  },
  "cells": [
    {
      "cell_type": "markdown",
      "metadata": {
        "id": "view-in-github",
        "colab_type": "text"
      },
      "source": [
        "<a href=\"https://colab.research.google.com/github/Aman05gupta/Python-Data-Types/blob/main/Dictionary.ipynb\" target=\"_parent\"><img src=\"https://colab.research.google.com/assets/colab-badge.svg\" alt=\"Open In Colab\"/></a>"
      ]
    },
    {
      "cell_type": "code",
      "execution_count": null,
      "metadata": {
        "id": "8k4rlGXw15nx"
      },
      "outputs": [],
      "source": []
    },
    {
      "cell_type": "markdown",
      "source": [
        "# Dictionary\n",
        "A dictionary is a versatile and mutable collection that stores key-value pairs. It is also known as an associative array or hash table in other programming languages. Dictionaries are unordered, meaning the elements do not have a specific order, and they are indexed by keys, which can be of any immutable type (strings, numbers, tuples).\n",
        "\n",
        "\n",
        "---\n",
        "## Creating a Dictionary\n"
      ],
      "metadata": {
        "id": "njgZQVZO16ql"
      }
    },
    {
      "cell_type": "code",
      "source": [
        "# Creating a dictionary\n",
        "my_dict = {'name': 'John', 'age': 30, 'city': 'New York'}\n"
      ],
      "metadata": {
        "id": "Lbqb18O12CBG"
      },
      "execution_count": 1,
      "outputs": []
    },
    {
      "cell_type": "code",
      "source": [
        "print(my_dict)"
      ],
      "metadata": {
        "colab": {
          "base_uri": "https://localhost:8080/"
        },
        "id": "6I87EmBo2Ndz",
        "outputId": "feb1adec-ca66-4d68-a28f-45d4d824ecd0"
      },
      "execution_count": 2,
      "outputs": [
        {
          "output_type": "stream",
          "name": "stdout",
          "text": [
            "{'name': 'John', 'age': 30, 'city': 'New York'}\n"
          ]
        }
      ]
    },
    {
      "cell_type": "markdown",
      "source": [
        "## Accessing Elements"
      ],
      "metadata": {
        "id": "T5vObXq82TlM"
      }
    },
    {
      "cell_type": "code",
      "source": [
        "print(my_dict['name'])\n",
        "print(my_dict['age'])\n"
      ],
      "metadata": {
        "colab": {
          "base_uri": "https://localhost:8080/"
        },
        "id": "x09uIclB2PqX",
        "outputId": "d79db69d-f156-4b52-d742-0bbf6434a277"
      },
      "execution_count": 3,
      "outputs": [
        {
          "output_type": "stream",
          "name": "stdout",
          "text": [
            "John\n",
            "30\n"
          ]
        }
      ]
    },
    {
      "cell_type": "markdown",
      "source": [
        "If the key does not exist, accessing it will raise a KeyError. To avoid this, you can use the get() method, which allows you to specify a default value if the key does not exist:"
      ],
      "metadata": {
        "id": "HLZwgcbW2byM"
      }
    },
    {
      "cell_type": "code",
      "source": [
        "print(my_dict.get('city', 'Unknown'))\n",
        "print(my_dict.get('job', 'Unknown'))\n"
      ],
      "metadata": {
        "colab": {
          "base_uri": "https://localhost:8080/"
        },
        "id": "R1tUFXhF2X6-",
        "outputId": "a26916a2-f716-4ccb-8fbd-939ec1f904bc"
      },
      "execution_count": 4,
      "outputs": [
        {
          "output_type": "stream",
          "name": "stdout",
          "text": [
            "New York\n",
            "Unknown\n"
          ]
        }
      ]
    },
    {
      "cell_type": "code",
      "source": [
        "Employee = {\"Name\": \"Dev\", \"Age\": 20, \"salary\":45000,\"Company\":\"WIPRO\"}\n",
        "print(type(Employee))\n",
        "print(\"printing Employee data .... \")\n",
        "print(\"Name : %s\" %Employee[\"Name\"])\n",
        "print(\"Age : %d\" %Employee[\"Age\"])\n",
        "print(\"Salary : %d\" %Employee[\"salary\"])\n",
        "print(\"Company : %s\" %Employee[\"Company\"])"
      ],
      "metadata": {
        "colab": {
          "base_uri": "https://localhost:8080/"
        },
        "id": "XXTJo0zq4i-A",
        "outputId": "fad7d7f3-7c5b-408e-ba61-b2e692f33f65"
      },
      "execution_count": 20,
      "outputs": [
        {
          "output_type": "stream",
          "name": "stdout",
          "text": [
            "<class 'dict'>\n",
            "printing Employee data .... \n",
            "Name : Dev\n",
            "Age : 20\n",
            "Salary : 45000\n",
            "Company : WIPRO\n"
          ]
        }
      ]
    },
    {
      "cell_type": "markdown",
      "source": [
        "## Modifying and Adding Elements\n",
        "Dictionaries are mutable, so you can modify existing keys or add new key-value pairs:"
      ],
      "metadata": {
        "id": "RUgeNPYz2juH"
      }
    },
    {
      "cell_type": "code",
      "source": [
        "# Modifying a value\n",
        "my_dict['age'] = 32\n",
        "\n",
        "# Adding a new key-value pair\n",
        "my_dict['job'] = 'Engineer'\n",
        "\n",
        "print(my_dict)\n"
      ],
      "metadata": {
        "colab": {
          "base_uri": "https://localhost:8080/"
        },
        "id": "bjT_BLCf2gqZ",
        "outputId": "f2a24a9a-38a9-4bdf-a0b0-1c7b10dd6044"
      },
      "execution_count": 10,
      "outputs": [
        {
          "output_type": "stream",
          "name": "stdout",
          "text": [
            "{'name': 'John', 'age': 32, 'job': 'Engineer'}\n"
          ]
        }
      ]
    },
    {
      "cell_type": "markdown",
      "source": [
        "## Removing Elements\n",
        "You can remove elements from a dictionary using the del keyword or the pop() method:"
      ],
      "metadata": {
        "id": "-HO6fs2r2uFg"
      }
    },
    {
      "cell_type": "code",
      "source": [
        "my_dict = {'name': 'John', 'age': 32, 'city': 'New York', 'job': 'Engineer'}"
      ],
      "metadata": {
        "id": "2DcYZGaz3cSn"
      },
      "execution_count": 12,
      "outputs": []
    },
    {
      "cell_type": "code",
      "source": [
        "# Removing a key-value pair\n",
        "del my_dict['city']\n",
        "print(my_dict)   # Output: {'name': 'John', 'age': 32, 'job': 'Engineer'}\n",
        "\n",
        "# Removing and retrieving the value\n",
        "job = my_dict.pop('job')\n",
        "print(job)       # Output: 'Engineer'\n",
        "print(my_dict)   # Output: {'name': 'John', 'age': 32}\n"
      ],
      "metadata": {
        "colab": {
          "base_uri": "https://localhost:8080/"
        },
        "id": "r069UTcS2nj4",
        "outputId": "3613d479-546e-48d8-8c5f-fec99f61c07d"
      },
      "execution_count": 13,
      "outputs": [
        {
          "output_type": "stream",
          "name": "stdout",
          "text": [
            "{'name': 'John', 'age': 32, 'job': 'Engineer'}\n",
            "Engineer\n",
            "{'name': 'John', 'age': 32}\n"
          ]
        }
      ]
    },
    {
      "cell_type": "markdown",
      "source": [
        "**popitem():** removes the most recent key-value pair entered"
      ],
      "metadata": {
        "id": "GrsY9uxDEjza"
      }
    },
    {
      "cell_type": "code",
      "source": [
        "# dictionary methods\n",
        "dict = {1: \"Hcl\", 2: \"WIPRO\", 3: \"Facebook\", 4: \"Amazon\", 5: \"Flipkart\"}\n",
        "# popitem() method\n",
        "dict_demo.popitem()\n",
        "print(dict_demo)\n"
      ],
      "metadata": {
        "colab": {
          "base_uri": "https://localhost:8080/"
        },
        "id": "5rHSvEgEEhYt",
        "outputId": "90351b23-c991-460f-ff85-63dd4ef82383"
      },
      "execution_count": 2,
      "outputs": [
        {
          "output_type": "stream",
          "name": "stdout",
          "text": [
            "{1: 'Hcl', 2: 'WIPRO', 3: 'Facebook', 4: 'Amazon'}\n"
          ]
        }
      ]
    },
    {
      "cell_type": "markdown",
      "source": [
        "## Dictionary Methods\n",
        "Python dictionaries provide several built-in methods for various operations:\n",
        "\n",
        "\n",
        "---\n",
        "\n",
        "\n",
        "**keys():** Returns a view object that displays a list of all the keys in the dictionary."
      ],
      "metadata": {
        "id": "lVFEvVHP3pfG"
      }
    },
    {
      "cell_type": "code",
      "source": [
        "print(my_dict.keys())"
      ],
      "metadata": {
        "colab": {
          "base_uri": "https://localhost:8080/"
        },
        "id": "yl5WfwlN2w1_",
        "outputId": "635f1d23-9b19-4f4a-9c55-83918c3e7eff"
      },
      "execution_count": 14,
      "outputs": [
        {
          "output_type": "stream",
          "name": "stdout",
          "text": [
            "dict_keys(['name', 'age'])\n"
          ]
        }
      ]
    },
    {
      "cell_type": "markdown",
      "source": [
        "**Values():** Returns a view object that displays a list of all the values in the dictionary."
      ],
      "metadata": {
        "id": "wf2DLlhF3z0C"
      }
    },
    {
      "cell_type": "code",
      "source": [
        "print(my_dict.values())\n"
      ],
      "metadata": {
        "colab": {
          "base_uri": "https://localhost:8080/"
        },
        "id": "fi4i83443v1D",
        "outputId": "2f415f19-0cb7-48e0-f06a-ebc5ea42287e"
      },
      "execution_count": 16,
      "outputs": [
        {
          "output_type": "stream",
          "name": "stdout",
          "text": [
            "dict_values(['John', 32])\n"
          ]
        }
      ]
    },
    {
      "cell_type": "markdown",
      "source": [
        "**items():** Returns a view object that displays a list of key-value tuple pairs."
      ],
      "metadata": {
        "id": "d5EndfHD3-QR"
      }
    },
    {
      "cell_type": "code",
      "source": [
        "print(my_dict.items())\n"
      ],
      "metadata": {
        "colab": {
          "base_uri": "https://localhost:8080/"
        },
        "id": "WLB-M_Md36Gp",
        "outputId": "3914abae-f4f9-4886-efd9-a2611b438cb2"
      },
      "execution_count": 17,
      "outputs": [
        {
          "output_type": "stream",
          "name": "stdout",
          "text": [
            "dict_items([('name', 'John'), ('age', 32)])\n"
          ]
        }
      ]
    },
    {
      "cell_type": "markdown",
      "source": [
        "**clear():** Removes all elements from the dictionary."
      ],
      "metadata": {
        "id": "Gq5Im7-N4HP7"
      }
    },
    {
      "cell_type": "code",
      "source": [
        "my_dict.clear()\n",
        "print(my_dict)\n"
      ],
      "metadata": {
        "colab": {
          "base_uri": "https://localhost:8080/"
        },
        "id": "x_CE7mlz4Cze",
        "outputId": "91a4b0d1-bd37-4560-e419-fd259d067916"
      },
      "execution_count": 19,
      "outputs": [
        {
          "output_type": "stream",
          "name": "stdout",
          "text": [
            "{}\n"
          ]
        }
      ]
    },
    {
      "cell_type": "markdown",
      "source": [
        "**copy():** It returns a shallow copy of the dictionary which is created."
      ],
      "metadata": {
        "id": "udUOcT9QEJeR"
      }
    },
    {
      "cell_type": "code",
      "source": [
        "# dictionary methods\n",
        "dict = {1: \"Hcl\", 2: \"WIPRO\", 3: \"Facebook\", 4: \"Amazon\", 5: \"Flipkart\"}\n",
        "# copy() method\n",
        "dict_demo = dict.copy()\n",
        "print(dict_demo)\n"
      ],
      "metadata": {
        "colab": {
          "base_uri": "https://localhost:8080/"
        },
        "id": "CDdct5Ds4LbX",
        "outputId": "bfc2f571-9001-4df6-ea98-97a03cdb3ce6"
      },
      "execution_count": 1,
      "outputs": [
        {
          "output_type": "stream",
          "name": "stdout",
          "text": [
            "{1: 'Hcl', 2: 'WIPRO', 3: 'Facebook', 4: 'Amazon', 5: 'Flipkart'}\n"
          ]
        }
      ]
    },
    {
      "cell_type": "markdown",
      "source": [
        "**keys():** It returns all the keys of the dictionary."
      ],
      "metadata": {
        "id": "0NA_ZOuEEwO1"
      }
    },
    {
      "cell_type": "code",
      "source": [
        "# dictionary methods\n",
        "dict = {1: \"Hcl\", 2: \"WIPRO\", 3: \"Facebook\", 4: \"Amazon\", 5: \"Flipkart\"}\n",
        "# keys() method\n",
        "print(dict_demo.keys())"
      ],
      "metadata": {
        "colab": {
          "base_uri": "https://localhost:8080/"
        },
        "id": "GyksX0Q7EQwu",
        "outputId": "c4258fd8-76b7-4dc4-9d22-5a52b0f95a37"
      },
      "execution_count": 3,
      "outputs": [
        {
          "output_type": "stream",
          "name": "stdout",
          "text": [
            "dict_keys([1, 2, 3, 4])\n"
          ]
        }
      ]
    },
    {
      "cell_type": "markdown",
      "source": [
        "**get():** It is used to get the value specified for the passed key."
      ],
      "metadata": {
        "id": "CJSZ-EwJFDVG"
      }
    },
    {
      "cell_type": "code",
      "source": [
        "# dictionary methods\n",
        "dict = {1: \"Hcl\", 2: \"WIPRO\", 3: \"Facebook\", 4: \"Amazon\", 5: \"Flipkart\"}\n",
        "# get() method\n",
        "print(dict_demo.get(3))"
      ],
      "metadata": {
        "colab": {
          "base_uri": "https://localhost:8080/"
        },
        "id": "rsddGnMwE3Y5",
        "outputId": "c4ceaec6-95f8-4af3-ac8c-6564e4790338"
      },
      "execution_count": 4,
      "outputs": [
        {
          "output_type": "stream",
          "name": "stdout",
          "text": [
            "Facebook\n"
          ]
        }
      ]
    },
    {
      "cell_type": "markdown",
      "source": [
        "**update():**\n",
        "It mainly updates all the dictionary by adding the key-value pair of dict2 to this dictionary.\n",
        "\n"
      ],
      "metadata": {
        "id": "ok_97R8lFOP0"
      }
    },
    {
      "cell_type": "code",
      "source": [
        "# dictionary methods\n",
        "dict = {1: \"Hcl\", 2: \"WIPRO\", 3: \"Facebook\", 4: \"Amazon\", 5: \"Flipkart\"}\n",
        "# update() method\n",
        "dict_demo.update({3: \"TCS\"})\n",
        "print(dict_demo)"
      ],
      "metadata": {
        "colab": {
          "base_uri": "https://localhost:8080/"
        },
        "id": "Oj0jyc-EFLb7",
        "outputId": "e471461c-a185-4fce-cded-a0b9c063cebe"
      },
      "execution_count": 5,
      "outputs": [
        {
          "output_type": "stream",
          "name": "stdout",
          "text": [
            "{1: 'Hcl', 2: 'WIPRO', 3: 'TCS', 4: 'Amazon'}\n"
          ]
        }
      ]
    },
    {
      "cell_type": "markdown",
      "source": [
        "**values():**\n",
        "It returns all the values of the dictionary with respect to given input."
      ],
      "metadata": {
        "id": "zIEFrKd1FWEA"
      }
    },
    {
      "cell_type": "code",
      "source": [
        "# dictionary methods\n",
        "dict = {1: \"Hcl\", 2: \"WIPRO\", 3: \"Facebook\", 4: \"Amazon\", 5: \"Flipkart\"}\n",
        "# values() method\n",
        "print(dict_demo.values())"
      ],
      "metadata": {
        "colab": {
          "base_uri": "https://localhost:8080/"
        },
        "id": "jWNC0fjCFSpU",
        "outputId": "c473896f-1f80-439b-e197-8b44d028a628"
      },
      "execution_count": 6,
      "outputs": [
        {
          "output_type": "stream",
          "name": "stdout",
          "text": [
            "dict_values(['Hcl', 'WIPRO', 'TCS', 'Amazon'])\n"
          ]
        }
      ]
    },
    {
      "cell_type": "code",
      "source": [],
      "metadata": {
        "id": "U9RXy7M7FcFZ"
      },
      "execution_count": null,
      "outputs": []
    }
  ]
}