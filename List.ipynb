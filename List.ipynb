{
  "cells": [
    {
      "cell_type": "markdown",
      "metadata": {
        "id": "view-in-github",
        "colab_type": "text"
      },
      "source": [
        "<a href=\"https://colab.research.google.com/github/Aman05gupta/Python-Data-Types/blob/main/List.ipynb\" target=\"_parent\"><img src=\"https://colab.research.google.com/assets/colab-badge.svg\" alt=\"Open In Colab\"/></a>"
      ]
    },
    {
      "cell_type": "code",
      "execution_count": null,
      "metadata": {
        "id": "NNXmCciFVABU"
      },
      "outputs": [],
      "source": []
    },
    {
      "cell_type": "markdown",
      "metadata": {
        "id": "jfwm5hsfVAu-"
      },
      "source": [
        "#  List\n",
        "A list is a versatile and mutable collection of items that can contain elements of different data types, such as integers, floats, strings, or even other lists. Lists are ordered, meaning each element has a specific position or index, starting from 0.\n",
        "\n",
        "\n",
        "---\n",
        "\n",
        "## Creating Lists"
      ]
    },
    {
      "cell_type": "code",
      "execution_count": null,
      "metadata": {
        "colab": {
          "base_uri": "https://localhost:8080/"
        },
        "id": "qnOgmEmiVGaa",
        "outputId": "789cd69b-321a-4376-927a-d3a94db9bb4a"
      },
      "outputs": [
        {
          "name": "stdout",
          "output_type": "stream",
          "text": [
            "[1, 2, 3, 4, 5]\n"
          ]
        }
      ],
      "source": [
        "# List of integers\n",
        "my_list1 = [1, 2, 3, 4, 5]\n",
        "\n",
        "print(my_list1)\n"
      ]
    },
    {
      "cell_type": "code",
      "execution_count": null,
      "metadata": {
        "colab": {
          "base_uri": "https://localhost:8080/"
        },
        "id": "WhlbxdWLViLX",
        "outputId": "b32c437f-731d-4b93-8922-256176d265bb"
      },
      "outputs": [
        {
          "name": "stdout",
          "output_type": "stream",
          "text": [
            "['apple', 'banana', 'cherry']\n"
          ]
        }
      ],
      "source": [
        "# List of strings\n",
        "my_list2 = ['apple', 'banana', 'cherry']\n",
        "\n",
        "print(my_list2)"
      ]
    },
    {
      "cell_type": "code",
      "execution_count": null,
      "metadata": {
        "colab": {
          "base_uri": "https://localhost:8080/"
        },
        "id": "QXNu7uLEVm5E",
        "outputId": "f9d774f7-54e6-4a50-90e0-c5be984ea19c"
      },
      "outputs": [
        {
          "name": "stdout",
          "output_type": "stream",
          "text": [
            "[1, 'hello', 3.14, True]\n"
          ]
        }
      ],
      "source": [
        "# List with mixed data types\n",
        "my_list3 = [1, 'hello', 3.14, True]\n",
        "\n",
        "print(my_list3)"
      ]
    },
    {
      "cell_type": "code",
      "execution_count": null,
      "metadata": {
        "colab": {
          "background_save": true
        },
        "id": "41P51LmhVrms",
        "outputId": "9db967a1-4c23-4537-b036-7697505983bf"
      },
      "outputs": [
        {
          "name": "stdout",
          "output_type": "stream",
          "text": [
            "[[1, 2, 3], ['a', 'b', 'c']]\n"
          ]
        }
      ],
      "source": [
        "# List of lists (nested list)\n",
        "nested_list = [[1, 2, 3], ['a', 'b', 'c']]\n",
        "\n",
        "print(nested_list)"
      ]
    },
    {
      "cell_type": "code",
      "execution_count": null,
      "metadata": {
        "id": "CElIaT6wV3jw"
      },
      "outputs": [],
      "source": []
    }
  ],
  "metadata": {
    "colab": {
      "provenance": [],
      "authorship_tag": "ABX9TyOLrgjf8eGlGKcxSbe8mCnH",
      "include_colab_link": true
    },
    "kernelspec": {
      "display_name": "Python 3",
      "name": "python3"
    },
    "language_info": {
      "name": "python"
    }
  },
  "nbformat": 4,
  "nbformat_minor": 0
}